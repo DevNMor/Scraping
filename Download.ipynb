{
 "cells": [
  {
   "cell_type": "code",
   "execution_count": 138,
   "id": "018e2d12",
   "metadata": {},
   "outputs": [],
   "source": [
    "## input class=\"js-tv3-init\" type=\"hidden\"\n",
    "## TV3.clipstream_clips"
   ]
  },
  {
   "cell_type": "code",
   "execution_count": 1,
   "id": "fbc00f1f",
   "metadata": {},
   "outputs": [],
   "source": [
    "from moviepy.editor import *\n",
    "import pandas as pd\n",
    "import requests                   \n",
    "from bs4 import BeautifulSoup  \n",
    "import json\n",
    "import re\n",
    "import datetime\n",
    "import time\n",
    "import os"
   ]
  },
  {
   "cell_type": "code",
   "execution_count": 92,
   "id": "b2f05395",
   "metadata": {},
   "outputs": [],
   "source": [
    "import azure.cognitiveservices.speech as speechsdk\n",
    "\n",
    "def recognize_from_microphone(filename):\n",
    "    speech_config = speechsdk.SpeechConfig(subscription=\"ab65be6b1f94481294721ccf173802e2\", region=\"eastus\")\n",
    "    speech_config.speech_recognition_language=\"en-US\"\n",
    "\n",
    "    #To recognize speech from an audio file, use `filename` instead of `use_default_microphone`:\n",
    "    #audio_config = speechsdk.audio.AudioConfig(filename=\"YourAudioFile.wav\")\n",
    "    audio_config = speechsdk.audio.AudioConfig(filename = filename)\n",
    "    speech_recognizer = speechsdk.SpeechRecognizer(speech_config=speech_config, audio_config=audio_config)\n",
    "\n",
    "    print(\"Speak into your microphone.\")\n",
    "    speech_recognition_result = speech_recognizer.recognize_once_async().get()\n",
    "\n",
    "    if speech_recognition_result.reason == speechsdk.ResultReason.RecognizedSpeech:\n",
    "        print(\"Recognized: {}\".format(speech_recognition_result.text))\n",
    "    elif speech_recognition_result.reason == speechsdk.ResultReason.NoMatch:\n",
    "        print(\"No speech could be recognized: {}\".format(speech_recognition_result.no_match_details))\n",
    "    elif speech_recognition_result.reason == speechsdk.ResultReason.Canceled:\n",
    "        cancellation_details = speech_recognition_result.cancellation_details\n",
    "        print(\"Speech Recognition canceled: {}\".format(cancellation_details.reason))\n",
    "        if cancellation_details.reason == speechsdk.CancellationReason.Error:\n",
    "            print(\"Error details: {}\".format(cancellation_details.error_details))"
   ]
  },
  {
   "cell_type": "markdown",
   "id": "a304f25c",
   "metadata": {},
   "source": [
    "## Coding for Use\n",
    "\n",
    "### Download audio file in wav format"
   ]
  },
  {
   "cell_type": "code",
   "execution_count": 2,
   "id": "f7b31bfb",
   "metadata": {},
   "outputs": [],
   "source": [
    "df = pd.read_excel('mk.xlsx')"
   ]
  },
  {
   "cell_type": "code",
   "execution_count": 3,
   "id": "8701b45c",
   "metadata": {},
   "outputs": [],
   "source": [
    "def get_mp4(i):\n",
    "    \n",
    "    ## scraping\n",
    "    p_url = df['achived url'][i]\n",
    "    page = requests.get(p_url)\n",
    "    soup = BeautifulSoup(page.content, 'html.parser')  \n",
    "    dic = json.loads(soup.select('input.js-tv3-init')[0]['value'])\n",
    "    list_mp4 = dic['TV3.clipstream_clips']  \n",
    "    list_time = list(map(lambda x: x.text.strip(), soup.find_all(class_=\"sniptitle\")))\n",
    "\n",
    "## program_title = re.findall(r'<title>([^:]+:[^:]+):', str(soup.find('title')))[0]\n",
    "\n",
    "    ## time index\n",
    "    program_start = re.findall(r'(\\d+:\\d{2}[a-z]{2})-', str(soup.find('title')))[0]\n",
    "    p_hr = int(re.findall(r'(\\d+):\\d{2}[a-z]{2}-', str(soup.find('title')))[0])\n",
    "    p_min = int(re.findall(r'\\d+:(\\d{2})[a-z]{2}-', str(soup.find('title')))[0])\n",
    "\n",
    "    if 'pm' in program_start:\n",
    "        if p_hr < 12:\n",
    "            p_hr += 12\n",
    "\n",
    "    op_hr = int(str(df['Start_time'][i])[0:2])\n",
    "    op_min = int(str(df['Start_time'][i])[3:5])\n",
    "    ed_hr = int(str(df['End_time'][i])[0:2])\n",
    "    ed_min = int(str(df['End_time'][i])[3:5])\n",
    "    op = (op_hr-p_hr)*60 + (op_min-p_min)\n",
    "    ed = (ed_hr-p_hr)*60 + (ed_min-p_min) + 1\n",
    "\n",
    "    ## get a list of time & mp4\n",
    "    time_mp4 = list_time[op:ed]\n",
    "    results = list_mp4[op:ed]\n",
    "    \n",
    "    return [time_mp4, results]"
   ]
  },
  {
   "cell_type": "code",
   "execution_count": 4,
   "id": "5026bdae",
   "metadata": {},
   "outputs": [],
   "source": [
    "def get_wav(i):\n",
    "    \n",
    "    if not os.path.exists('audio_file_mk'):\n",
    "        os.makedirs('audio_file_mk')\n",
    "    \n",
    "    folder = df.source[i] + '_' + df.fn_name[i][:-4]\n",
    "    \n",
    "    if not os.path.exists('audio_file_mk/' + folder):  \n",
    "        os.makedirs('audio_file_mk/' + folder)\n",
    "    \n",
    "    total = get_mp4(i)\n",
    "    list_dir = []\n",
    "    list_fail = []\n",
    "    \n",
    "    for x in total[1]:\n",
    "        wav = 'audio_file_mk/' + folder + '/' + folder + '_part' + str(total[1].index(x)) + '.wav'\n",
    "        try:\n",
    "            VideoFileClip(x).audio.write_audiofile(wav, logger=None)\n",
    "            list_dir.append([total[0][total[1].index(x)], wav])\n",
    "        except:\n",
    "            fail = 'Downloading failed: ' + folder + '_part' + str(total[1].index(x)) + '.wav'\n",
    "            list_fail.append(fail)\n",
    "            print(fail)\n",
    "    \n",
    "    return [list_dir, list_fail]         "
   ]
  },
  {
   "cell_type": "code",
   "execution_count": null,
   "id": "ba47f479",
   "metadata": {},
   "outputs": [],
   "source": []
  },
  {
   "cell_type": "markdown",
   "id": "d522eda3",
   "metadata": {},
   "source": [
    "## Download the audio file according to indexed in the dataframe"
   ]
  },
  {
   "cell_type": "code",
   "execution_count": 30,
   "id": "59add650",
   "metadata": {},
   "outputs": [
    {
     "data": {
      "text/plain": [
       "230"
      ]
     },
     "execution_count": 30,
     "metadata": {},
     "output_type": "execute_result"
    }
   ],
   "source": [
    "len(df)"
   ]
  },
  {
   "cell_type": "code",
   "execution_count": 18,
   "id": "76a2051a",
   "metadata": {},
   "outputs": [
    {
     "name": "stdout",
     "output_type": "stream",
     "text": [
      "3068.74068236351\n"
     ]
    }
   ],
   "source": [
    "t1 = time.time()\n",
    "for i in range(191, 230):\n",
    "    get_wav(i)\n",
    "t2 = time.time()\n",
    "print(t2-t1)"
   ]
  },
  {
   "cell_type": "code",
   "execution_count": 16,
   "id": "e6f1763e",
   "metadata": {},
   "outputs": [
    {
     "data": {
      "text/html": [
       "<div>\n",
       "<style scoped>\n",
       "    .dataframe tbody tr th:only-of-type {\n",
       "        vertical-align: middle;\n",
       "    }\n",
       "\n",
       "    .dataframe tbody tr th {\n",
       "        vertical-align: top;\n",
       "    }\n",
       "\n",
       "    .dataframe thead th {\n",
       "        text-align: right;\n",
       "    }\n",
       "</style>\n",
       "<table border=\"1\" class=\"dataframe\">\n",
       "  <thead>\n",
       "    <tr style=\"text-align: right;\">\n",
       "      <th></th>\n",
       "      <th>comp_name</th>\n",
       "      <th>description</th>\n",
       "      <th>source</th>\n",
       "      <th>title</th>\n",
       "      <th>url</th>\n",
       "      <th>fn_name</th>\n",
       "      <th>duration_in_script</th>\n",
       "      <th>TIME_in_script</th>\n",
       "      <th>DATE</th>\n",
       "      <th>rdq</th>\n",
       "      <th>...</th>\n",
       "      <th>MULTI_DUP</th>\n",
       "      <th>DIFF_PROG</th>\n",
       "      <th>PROGRAM</th>\n",
       "      <th>transcript_needed</th>\n",
       "      <th>Start_time</th>\n",
       "      <th>End_time</th>\n",
       "      <th>Time_in_EST_Other</th>\n",
       "      <th>achived url</th>\n",
       "      <th>archived_missing</th>\n",
       "      <th>Replay</th>\n",
       "    </tr>\n",
       "  </thead>\n",
       "  <tbody>\n",
       "    <tr>\n",
       "      <th>191</th>\n",
       "      <td>CME Group</td>\n",
       "      <td>Terry Duffy, CME Group chairman and chief exec...</td>\n",
       "      <td>bb</td>\n",
       "      <td>CME Group CEO Duffy Says Investors Need to Man...</td>\n",
       "      <td>https://www.bloomberg.com/news/videos/2017-10-...</td>\n",
       "      <td>5635.txt</td>\n",
       "      <td>144</td>\n",
       "      <td>16:00:17</td>\n",
       "      <td>2017-10-26</td>\n",
       "      <td>2017-10-26</td>\n",
       "      <td>...</td>\n",
       "      <td>1.0</td>\n",
       "      <td>NaN</td>\n",
       "      <td>Bloomberg Markets</td>\n",
       "      <td>1</td>\n",
       "      <td>15:00:48</td>\n",
       "      <td>15:09:59</td>\n",
       "      <td>EDT</td>\n",
       "      <td>https://archive.org/details/BLOOMBERG_20171026...</td>\n",
       "      <td>0</td>\n",
       "      <td>NaN</td>\n",
       "    </tr>\n",
       "  </tbody>\n",
       "</table>\n",
       "<p>1 rows × 21 columns</p>\n",
       "</div>"
      ],
      "text/plain": [
       "     comp_name                                        description source  \\\n",
       "191  CME Group  Terry Duffy, CME Group chairman and chief exec...     bb   \n",
       "\n",
       "                                                 title  \\\n",
       "191  CME Group CEO Duffy Says Investors Need to Man...   \n",
       "\n",
       "                                                   url   fn_name  \\\n",
       "191  https://www.bloomberg.com/news/videos/2017-10-...  5635.txt   \n",
       "\n",
       "     duration_in_script TIME_in_script       DATE        rdq  ...  MULTI_DUP  \\\n",
       "191                 144       16:00:17 2017-10-26 2017-10-26  ...        1.0   \n",
       "\n",
       "     DIFF_PROG            PROGRAM transcript_needed  Start_time  End_time  \\\n",
       "191        NaN  Bloomberg Markets                 1    15:00:48  15:09:59   \n",
       "\n",
       "    Time_in_EST_Other                                        achived url  \\\n",
       "191               EDT  https://archive.org/details/BLOOMBERG_20171026...   \n",
       "\n",
       "    archived_missing  Replay  \n",
       "191                0     NaN  \n",
       "\n",
       "[1 rows x 21 columns]"
      ]
     },
     "execution_count": 16,
     "metadata": {},
     "output_type": "execute_result"
    }
   ],
   "source": [
    "df[df.fn_name=='5635.txt']"
   ]
  },
  {
   "cell_type": "code",
   "execution_count": 17,
   "id": "b3a1f750",
   "metadata": {},
   "outputs": [
    {
     "data": {
      "text/html": [
       "<div>\n",
       "<style scoped>\n",
       "    .dataframe tbody tr th:only-of-type {\n",
       "        vertical-align: middle;\n",
       "    }\n",
       "\n",
       "    .dataframe tbody tr th {\n",
       "        vertical-align: top;\n",
       "    }\n",
       "\n",
       "    .dataframe thead th {\n",
       "        text-align: right;\n",
       "    }\n",
       "</style>\n",
       "<table border=\"1\" class=\"dataframe\">\n",
       "  <thead>\n",
       "    <tr style=\"text-align: right;\">\n",
       "      <th></th>\n",
       "      <th>comp_name</th>\n",
       "      <th>description</th>\n",
       "      <th>source</th>\n",
       "      <th>title</th>\n",
       "      <th>url</th>\n",
       "      <th>fn_name</th>\n",
       "      <th>duration_in_script</th>\n",
       "      <th>TIME_in_script</th>\n",
       "      <th>DATE</th>\n",
       "      <th>rdq</th>\n",
       "      <th>...</th>\n",
       "      <th>MULTI_DUP</th>\n",
       "      <th>DIFF_PROG</th>\n",
       "      <th>PROGRAM</th>\n",
       "      <th>transcript_needed</th>\n",
       "      <th>Start_time</th>\n",
       "      <th>End_time</th>\n",
       "      <th>Time_in_EST_Other</th>\n",
       "      <th>achived url</th>\n",
       "      <th>archived_missing</th>\n",
       "      <th>Replay</th>\n",
       "    </tr>\n",
       "  </thead>\n",
       "  <tbody>\n",
       "    <tr>\n",
       "      <th>190</th>\n",
       "      <td>Bayer</td>\n",
       "      <td>Werner Baumann, chief executive officer at Bay...</td>\n",
       "      <td>bb</td>\n",
       "      <td>Bayers' CEO Says Rapidly Shifting to Life Scie...</td>\n",
       "      <td>https://www.bloomberg.com/news/videos/2017-10-...</td>\n",
       "      <td>1072.txt</td>\n",
       "      <td>312</td>\n",
       "      <td>04:42:11</td>\n",
       "      <td>2017-10-26</td>\n",
       "      <td>2017-10-26</td>\n",
       "      <td>...</td>\n",
       "      <td>NaN</td>\n",
       "      <td>NaN</td>\n",
       "      <td>Bloomberg Markets: European Open</td>\n",
       "      <td>1</td>\n",
       "      <td>03:04:50</td>\n",
       "      <td>03:10:14</td>\n",
       "      <td>EDT</td>\n",
       "      <td>https://archive.org/details/BLOOMBERG_20171026...</td>\n",
       "      <td>0</td>\n",
       "      <td>NaN</td>\n",
       "    </tr>\n",
       "    <tr>\n",
       "      <th>191</th>\n",
       "      <td>CME Group</td>\n",
       "      <td>Terry Duffy, CME Group chairman and chief exec...</td>\n",
       "      <td>bb</td>\n",
       "      <td>CME Group CEO Duffy Says Investors Need to Man...</td>\n",
       "      <td>https://www.bloomberg.com/news/videos/2017-10-...</td>\n",
       "      <td>5635.txt</td>\n",
       "      <td>144</td>\n",
       "      <td>16:00:17</td>\n",
       "      <td>2017-10-26</td>\n",
       "      <td>2017-10-26</td>\n",
       "      <td>...</td>\n",
       "      <td>1.0</td>\n",
       "      <td>NaN</td>\n",
       "      <td>Bloomberg Markets</td>\n",
       "      <td>1</td>\n",
       "      <td>15:00:48</td>\n",
       "      <td>15:09:59</td>\n",
       "      <td>EDT</td>\n",
       "      <td>https://archive.org/details/BLOOMBERG_20171026...</td>\n",
       "      <td>0</td>\n",
       "      <td>NaN</td>\n",
       "    </tr>\n",
       "    <tr>\n",
       "      <th>192</th>\n",
       "      <td>Dunkin' Brands</td>\n",
       "      <td>Nigel Travis, Dunkin' Brands Group chief execu...</td>\n",
       "      <td>bb</td>\n",
       "      <td>Dunkin' CEO Sees Lack of Labor as Biggest Problem</td>\n",
       "      <td>https://www.bloomberg.com/news/videos/2017-10-...</td>\n",
       "      <td>1080.txt</td>\n",
       "      <td>168</td>\n",
       "      <td>16:21:17</td>\n",
       "      <td>2017-10-26</td>\n",
       "      <td>2017-10-26</td>\n",
       "      <td>...</td>\n",
       "      <td>NaN</td>\n",
       "      <td>NaN</td>\n",
       "      <td>What'd You Miss?</td>\n",
       "      <td>1</td>\n",
       "      <td>15:42:50</td>\n",
       "      <td>15:48:12</td>\n",
       "      <td>EDT</td>\n",
       "      <td>https://archive.org/details/BLOOMBERG_20171026...</td>\n",
       "      <td>0</td>\n",
       "      <td>NaN</td>\n",
       "    </tr>\n",
       "    <tr>\n",
       "      <th>193</th>\n",
       "      <td>Expedia</td>\n",
       "      <td>Mark Okerstrom, chief executive officer at Exp...</td>\n",
       "      <td>bb</td>\n",
       "      <td>Expedia CEO Says Short-Term Results Are All Ab...</td>\n",
       "      <td>https://www.bloomberg.com/news/videos/2017-10-...</td>\n",
       "      <td>5637.txt</td>\n",
       "      <td>175</td>\n",
       "      <td>11:33:00</td>\n",
       "      <td>2017-10-27</td>\n",
       "      <td>2017-10-26</td>\n",
       "      <td>...</td>\n",
       "      <td>NaN</td>\n",
       "      <td>NaN</td>\n",
       "      <td>Bloomberg Markets</td>\n",
       "      <td>0</td>\n",
       "      <td>10:41:40</td>\n",
       "      <td>10:49:05</td>\n",
       "      <td>EDT</td>\n",
       "      <td>https://archive.org/details/BLOOMBERG_20171027...</td>\n",
       "      <td>0</td>\n",
       "      <td>NaN</td>\n",
       "    </tr>\n",
       "    <tr>\n",
       "      <th>194</th>\n",
       "      <td>BNP Paribas</td>\n",
       "      <td>BNP Paribas CFO Lars Machenil discusses the th...</td>\n",
       "      <td>bb</td>\n",
       "      <td>BNP Paribas CFO on 3Q Results, ECB Policy, Acq...</td>\n",
       "      <td>https://www.bloomberg.com/news/videos/2017-10-...</td>\n",
       "      <td>1104.txt</td>\n",
       "      <td>494</td>\n",
       "      <td>02:08:42</td>\n",
       "      <td>2017-10-31</td>\n",
       "      <td>2017-10-31</td>\n",
       "      <td>...</td>\n",
       "      <td>NaN</td>\n",
       "      <td>NaN</td>\n",
       "      <td>Unidentifiable</td>\n",
       "      <td>1</td>\n",
       "      <td>02:21:00</td>\n",
       "      <td>02:23:40</td>\n",
       "      <td>EDT</td>\n",
       "      <td>https://archive.org/details/BLOOMBERG_20171031...</td>\n",
       "      <td>0</td>\n",
       "      <td>NaN</td>\n",
       "    </tr>\n",
       "    <tr>\n",
       "      <th>195</th>\n",
       "      <td>Societe Generale</td>\n",
       "      <td>Societe Generale Chief Executive Officer Frede...</td>\n",
       "      <td>bb</td>\n",
       "      <td>SocGen CEO on Tech Changes in European Banking</td>\n",
       "      <td>https://www.bloomberg.com/news/videos/2017-11-...</td>\n",
       "      <td>5660.txt</td>\n",
       "      <td>504</td>\n",
       "      <td>12:35:31</td>\n",
       "      <td>2017-11-07</td>\n",
       "      <td>2017-11-03</td>\n",
       "      <td>...</td>\n",
       "      <td>NaN</td>\n",
       "      <td>NaN</td>\n",
       "      <td>Unidentifiable</td>\n",
       "      <td>1</td>\n",
       "      <td>11:07:50</td>\n",
       "      <td>11:11:48</td>\n",
       "      <td>EST</td>\n",
       "      <td>https://archive.org/details/BLOOMBERG_20171107...</td>\n",
       "      <td>0</td>\n",
       "      <td>NaN</td>\n",
       "    </tr>\n",
       "    <tr>\n",
       "      <th>196</th>\n",
       "      <td>IAC</td>\n",
       "      <td>Joey Levin, chief executive officer at IAC, ta...</td>\n",
       "      <td>bb</td>\n",
       "      <td>IAC CEO Levin Says There's No Formula for Spin...</td>\n",
       "      <td>https://www.bloomberg.com/news/videos/2017-11-...</td>\n",
       "      <td>1183.txt</td>\n",
       "      <td>197</td>\n",
       "      <td>11:54:01</td>\n",
       "      <td>2017-11-09</td>\n",
       "      <td>2017-11-08</td>\n",
       "      <td>...</td>\n",
       "      <td>1.0</td>\n",
       "      <td>NaN</td>\n",
       "      <td>Bloomberg Markets</td>\n",
       "      <td>1</td>\n",
       "      <td>10:32:00</td>\n",
       "      <td>10:41:50</td>\n",
       "      <td>EST</td>\n",
       "      <td>https://archive.org/details/BLOOMBERG_20171109...</td>\n",
       "      <td>0</td>\n",
       "      <td>NaN</td>\n",
       "    </tr>\n",
       "    <tr>\n",
       "      <th>197</th>\n",
       "      <td>Intesa Sanpaolo</td>\n",
       "      <td>Carlo Messina, chief executive officer at Inte...</td>\n",
       "      <td>bb</td>\n",
       "      <td>Intesa CEO Says Remaining 'Significant' Divide...</td>\n",
       "      <td>https://www.bloomberg.com/news/videos/2017-11-...</td>\n",
       "      <td>1178.txt</td>\n",
       "      <td>151</td>\n",
       "      <td>06:19:15</td>\n",
       "      <td>2017-11-09</td>\n",
       "      <td>2017-11-07</td>\n",
       "      <td>...</td>\n",
       "      <td>NaN</td>\n",
       "      <td>NaN</td>\n",
       "      <td>Bloomberg Surveillance</td>\n",
       "      <td>1</td>\n",
       "      <td>04:32:50</td>\n",
       "      <td>04:41:26</td>\n",
       "      <td>EST</td>\n",
       "      <td>https://archive.org/details/BLOOMBERG_20171109...</td>\n",
       "      <td>0</td>\n",
       "      <td>NaN</td>\n",
       "    </tr>\n",
       "    <tr>\n",
       "      <th>198</th>\n",
       "      <td>Siemens</td>\n",
       "      <td>Siemens CEO Joe Kaeser discusses the company's...</td>\n",
       "      <td>bb</td>\n",
       "      <td>Siemens Plans Job Cuts in Power, Gas Division</td>\n",
       "      <td>https://www.bloomberg.com/news/videos/2017-11-...</td>\n",
       "      <td>1170.txt</td>\n",
       "      <td>324</td>\n",
       "      <td>02:26:51</td>\n",
       "      <td>2017-11-09</td>\n",
       "      <td>2017-11-09</td>\n",
       "      <td>...</td>\n",
       "      <td>NaN</td>\n",
       "      <td>NaN</td>\n",
       "      <td>Bloomberg Daybreak: Europe</td>\n",
       "      <td>1</td>\n",
       "      <td>01:51:10</td>\n",
       "      <td>01:56:40</td>\n",
       "      <td>EST</td>\n",
       "      <td>https://archive.org/details/BLOOMBERG_20171109...</td>\n",
       "      <td>0</td>\n",
       "      <td>NaN</td>\n",
       "    </tr>\n",
       "    <tr>\n",
       "      <th>199</th>\n",
       "      <td>VMware</td>\n",
       "      <td>Pat Gelsinger, VMware's chief executive office...</td>\n",
       "      <td>bb</td>\n",
       "      <td>VMware CEO on Earnings, Partnerships With AWS ...</td>\n",
       "      <td>https://www.bloomberg.com/news/videos/2017-12-...</td>\n",
       "      <td>5737.txt</td>\n",
       "      <td>209</td>\n",
       "      <td>18:41:56</td>\n",
       "      <td>2017-12-01</td>\n",
       "      <td>2017-11-30</td>\n",
       "      <td>...</td>\n",
       "      <td>NaN</td>\n",
       "      <td>NaN</td>\n",
       "      <td>Bloomberg Technology</td>\n",
       "      <td>1</td>\n",
       "      <td>17:33:15</td>\n",
       "      <td>17:38:13</td>\n",
       "      <td>EST</td>\n",
       "      <td>https://archive.org/details/BLOOMBERG_20171201...</td>\n",
       "      <td>0</td>\n",
       "      <td>NaN</td>\n",
       "    </tr>\n",
       "    <tr>\n",
       "      <th>200</th>\n",
       "      <td>BB&amp;T</td>\n",
       "      <td>BB&amp;T Corp. Chairman and CEO Kelly King discuss...</td>\n",
       "      <td>bb</td>\n",
       "      <td>BB&amp;T CEO Sees Broad-Based Set of Benefits From...</td>\n",
       "      <td>https://www.bloomberg.com/news/videos/2018-01-...</td>\n",
       "      <td>1470.txt</td>\n",
       "      <td>237</td>\n",
       "      <td>17:13:54</td>\n",
       "      <td>2018-01-18</td>\n",
       "      <td>2018-01-18</td>\n",
       "      <td>...</td>\n",
       "      <td>NaN</td>\n",
       "      <td>NaN</td>\n",
       "      <td>What'd You Miss?</td>\n",
       "      <td>1</td>\n",
       "      <td>16:15:50</td>\n",
       "      <td>16:21:41</td>\n",
       "      <td>EST</td>\n",
       "      <td>https://archive.org/details/BLOOMBERG_20180118...</td>\n",
       "      <td>0</td>\n",
       "      <td>NaN</td>\n",
       "    </tr>\n",
       "    <tr>\n",
       "      <th>201</th>\n",
       "      <td>SAP SE</td>\n",
       "      <td>Bill McDermott, chief executive officer at SAP...</td>\n",
       "      <td>bb</td>\n",
       "      <td>SAP CEO Says Callidus Deal Too Good to Pass Up</td>\n",
       "      <td>https://www.bloomberg.com/news/videos/2018-01-...</td>\n",
       "      <td>1551.txt</td>\n",
       "      <td>434</td>\n",
       "      <td>03:47:33</td>\n",
       "      <td>2018-01-30</td>\n",
       "      <td>2018-01-30</td>\n",
       "      <td>...</td>\n",
       "      <td>NaN</td>\n",
       "      <td>NaN</td>\n",
       "      <td>Bloomberg Markets: European Open</td>\n",
       "      <td>1</td>\n",
       "      <td>02:48:00</td>\n",
       "      <td>02:55:30</td>\n",
       "      <td>EST</td>\n",
       "      <td>https://archive.org/details/BLOOMBERG_20180130...</td>\n",
       "      <td>0</td>\n",
       "      <td>NaN</td>\n",
       "    </tr>\n",
       "    <tr>\n",
       "      <th>202</th>\n",
       "      <td>CME Group</td>\n",
       "      <td>Terry Duffy, chairman and chief executive offi...</td>\n",
       "      <td>bb</td>\n",
       "      <td>CME Has No Imminent Plan to Expand Beyond Bitc...</td>\n",
       "      <td>https://www.bloomberg.com/news/videos/2018-02-...</td>\n",
       "      <td>1575.txt</td>\n",
       "      <td>663</td>\n",
       "      <td>15:21:00</td>\n",
       "      <td>2018-02-01</td>\n",
       "      <td>2018-02-01</td>\n",
       "      <td>...</td>\n",
       "      <td>NaN</td>\n",
       "      <td>NaN</td>\n",
       "      <td>Bloomberg Markets: Americas</td>\n",
       "      <td>0</td>\n",
       "      <td>14:14:30</td>\n",
       "      <td>14:20:23</td>\n",
       "      <td>EST</td>\n",
       "      <td>https://archive.org/details/BLOOMBERG_20180201...</td>\n",
       "      <td>0</td>\n",
       "      <td>NaN</td>\n",
       "    </tr>\n",
       "    <tr>\n",
       "      <th>203</th>\n",
       "      <td>Novo Nordisk</td>\n",
       "      <td>Lars Fruergaard Jorgensen, chief executive off...</td>\n",
       "      <td>bb</td>\n",
       "      <td>Novo Nordisk CEO Is 'Quite Optimistic' About 2...</td>\n",
       "      <td>https://www.bloomberg.com/news/videos/2018-02-...</td>\n",
       "      <td>5902.txt</td>\n",
       "      <td>335</td>\n",
       "      <td>05:22:30</td>\n",
       "      <td>2018-02-01</td>\n",
       "      <td>2018-02-01</td>\n",
       "      <td>...</td>\n",
       "      <td>NaN</td>\n",
       "      <td>NaN</td>\n",
       "      <td>Bloomberg Markets: European Open</td>\n",
       "      <td>0</td>\n",
       "      <td>03:21:00</td>\n",
       "      <td>03:26:45</td>\n",
       "      <td>EST</td>\n",
       "      <td>https://archive.org/details/BLOOMBERG_20180201...</td>\n",
       "      <td>0</td>\n",
       "      <td>NaN</td>\n",
       "    </tr>\n",
       "    <tr>\n",
       "      <th>204</th>\n",
       "      <td>PayPal</td>\n",
       "      <td>PayPal CFO John Rainey discusses EBay's shift ...</td>\n",
       "      <td>bb</td>\n",
       "      <td>PayPal CFO Says EBay's Shift to Ayden Was 'Com...</td>\n",
       "      <td>https://www.bloomberg.com/news/videos/2018-02-...</td>\n",
       "      <td>5904.txt</td>\n",
       "      <td>283</td>\n",
       "      <td>12:54:13</td>\n",
       "      <td>2018-02-01</td>\n",
       "      <td>2018-01-31</td>\n",
       "      <td>...</td>\n",
       "      <td>NaN</td>\n",
       "      <td>NaN</td>\n",
       "      <td>Bloomberg Markets</td>\n",
       "      <td>0</td>\n",
       "      <td>23:41:00</td>\n",
       "      <td>23:44:05</td>\n",
       "      <td>EST</td>\n",
       "      <td>https://archive.org/details/BLOOMBERG_20180202...</td>\n",
       "      <td>0</td>\n",
       "      <td>NaN</td>\n",
       "    </tr>\n",
       "    <tr>\n",
       "      <th>205</th>\n",
       "      <td>Royal Dutch Shell</td>\n",
       "      <td>Royal Dutch Shell CEO Ben van Beurden discusse...</td>\n",
       "      <td>bb</td>\n",
       "      <td>Shell's Best Profit in 3 Years Marred by Cash-...</td>\n",
       "      <td>https://www.bloomberg.com/news/videos/2018-02-...</td>\n",
       "      <td>1569.txt</td>\n",
       "      <td>415</td>\n",
       "      <td>03:10:46</td>\n",
       "      <td>2018-02-01</td>\n",
       "      <td>2018-02-01</td>\n",
       "      <td>...</td>\n",
       "      <td>NaN</td>\n",
       "      <td>NaN</td>\n",
       "      <td>Bloomberg Markets</td>\n",
       "      <td>1</td>\n",
       "      <td>02:43:15</td>\n",
       "      <td>02:49:50</td>\n",
       "      <td>EST</td>\n",
       "      <td>https://archive.org/details/BLOOMBERG_20180201...</td>\n",
       "      <td>0</td>\n",
       "      <td>NaN</td>\n",
       "    </tr>\n",
       "    <tr>\n",
       "      <th>206</th>\n",
       "      <td>Unilever</td>\n",
       "      <td>Paul Polman, chief executive officer at Unilev...</td>\n",
       "      <td>bb</td>\n",
       "      <td>Unilever CEO on 2017 Earnings, Profit for Shar...</td>\n",
       "      <td>https://www.bloomberg.com/news/videos/2018-02-...</td>\n",
       "      <td>1571.txt</td>\n",
       "      <td>264</td>\n",
       "      <td>03:55:29</td>\n",
       "      <td>2018-02-01</td>\n",
       "      <td>2018-02-01</td>\n",
       "      <td>...</td>\n",
       "      <td>NaN</td>\n",
       "      <td>NaN</td>\n",
       "      <td>Bloomberg Markets: European Open</td>\n",
       "      <td>1</td>\n",
       "      <td>02:50:10</td>\n",
       "      <td>02:54:40</td>\n",
       "      <td>EST</td>\n",
       "      <td>https://archive.org/details/BLOOMBERG_20180201...</td>\n",
       "      <td>0</td>\n",
       "      <td>NaN</td>\n",
       "    </tr>\n",
       "    <tr>\n",
       "      <th>207</th>\n",
       "      <td>United Parcel Service</td>\n",
       "      <td>United Parcel Service CFO Richard Peretz discu...</td>\n",
       "      <td>bb</td>\n",
       "      <td>UPS CFO Says Shipper Using Tax Savings for Inv...</td>\n",
       "      <td>https://www.bloomberg.com/news/videos/2018-02-...</td>\n",
       "      <td>1574.txt</td>\n",
       "      <td>105</td>\n",
       "      <td>14:14:59</td>\n",
       "      <td>2018-02-01</td>\n",
       "      <td>2018-02-01</td>\n",
       "      <td>...</td>\n",
       "      <td>NaN</td>\n",
       "      <td>NaN</td>\n",
       "      <td>Bloomberg Markets</td>\n",
       "      <td>0</td>\n",
       "      <td>10:31:55</td>\n",
       "      <td>10:37:41</td>\n",
       "      <td>EST</td>\n",
       "      <td>https://archive.org/details/BLOOMBERG_20180201...</td>\n",
       "      <td>0</td>\n",
       "      <td>NaN</td>\n",
       "    </tr>\n",
       "    <tr>\n",
       "      <th>208</th>\n",
       "      <td>Danske Bank</td>\n",
       "      <td>Jacob Aarup-Andersen, Danske Bank CFO, says Da...</td>\n",
       "      <td>bb</td>\n",
       "      <td>Danske CFO Expects Basel III Proposal May Be M...</td>\n",
       "      <td>https://www.bloomberg.com/news/videos/2018-02-...</td>\n",
       "      <td>1578.txt</td>\n",
       "      <td>396</td>\n",
       "      <td>06:00:11</td>\n",
       "      <td>2018-02-02</td>\n",
       "      <td>2018-02-02</td>\n",
       "      <td>...</td>\n",
       "      <td>NaN</td>\n",
       "      <td>NaN</td>\n",
       "      <td>Bloomberg Surveillance</td>\n",
       "      <td>1</td>\n",
       "      <td>04:19:31</td>\n",
       "      <td>04:26:24</td>\n",
       "      <td>EST</td>\n",
       "      <td>https://archive.org/details/BLOOMBERG_20180202...</td>\n",
       "      <td>0</td>\n",
       "      <td>NaN</td>\n",
       "    </tr>\n",
       "    <tr>\n",
       "      <th>209</th>\n",
       "      <td>Deutsche Bank</td>\n",
       "      <td>Deutsche Bank AG Chief Executive Officer John ...</td>\n",
       "      <td>bb</td>\n",
       "      <td>Deutsche Bank CEO Doesn't Rule Out Combination</td>\n",
       "      <td>https://www.bloomberg.com/news/videos/2018-02-...</td>\n",
       "      <td>5906.txt</td>\n",
       "      <td>501</td>\n",
       "      <td>07:58:51</td>\n",
       "      <td>2018-02-02</td>\n",
       "      <td>2018-02-02</td>\n",
       "      <td>...</td>\n",
       "      <td>NaN</td>\n",
       "      <td>NaN</td>\n",
       "      <td>Bloomberg Markets: European Open</td>\n",
       "      <td>1</td>\n",
       "      <td>14:54:10</td>\n",
       "      <td>14:56:00</td>\n",
       "      <td>EST</td>\n",
       "      <td>https://archive.org/details/BLOOMBERG_20180202...</td>\n",
       "      <td>0</td>\n",
       "      <td>NaN</td>\n",
       "    </tr>\n",
       "    <tr>\n",
       "      <th>210</th>\n",
       "      <td>Marathon Petroleum</td>\n",
       "      <td>Marathon Petroleum CEO Gary Heminger, discusse...</td>\n",
       "      <td>bb</td>\n",
       "      <td>Marathon Petroleum CEO Expecting Flat 2018 Demand</td>\n",
       "      <td>https://www.bloomberg.com/news/videos/2018-02-...</td>\n",
       "      <td>5907.txt</td>\n",
       "      <td>377</td>\n",
       "      <td>08:30:59</td>\n",
       "      <td>2018-02-02</td>\n",
       "      <td>2018-02-01</td>\n",
       "      <td>...</td>\n",
       "      <td>NaN</td>\n",
       "      <td>NaN</td>\n",
       "      <td>Bloomberg Markets: Americas</td>\n",
       "      <td>0</td>\n",
       "      <td>07:15:05</td>\n",
       "      <td>07:21:40</td>\n",
       "      <td>EST</td>\n",
       "      <td>https://archive.org/details/BLOOMBERG_20180202...</td>\n",
       "      <td>0</td>\n",
       "      <td>NaN</td>\n",
       "    </tr>\n",
       "    <tr>\n",
       "      <th>211</th>\n",
       "      <td>Ryanair</td>\n",
       "      <td>Ryanair CFO Neil Sorahan discusses the perform...</td>\n",
       "      <td>bb</td>\n",
       "      <td>Ryanair CFO Says 4Q Fares Will Be 'Slightly Up...</td>\n",
       "      <td>https://www.bloomberg.com/news/videos/2018-02-...</td>\n",
       "      <td>1584.txt</td>\n",
       "      <td>395</td>\n",
       "      <td>01:50:36</td>\n",
       "      <td>2018-02-05</td>\n",
       "      <td>2018-02-05</td>\n",
       "      <td>...</td>\n",
       "      <td>NaN</td>\n",
       "      <td>NaN</td>\n",
       "      <td>Bloomberg Daybreak: Europe</td>\n",
       "      <td>1</td>\n",
       "      <td>01:20:03</td>\n",
       "      <td>01:26:55</td>\n",
       "      <td>EST</td>\n",
       "      <td>https://archive.org/details/BLOOMBERG_20180205...</td>\n",
       "      <td>0</td>\n",
       "      <td>NaN</td>\n",
       "    </tr>\n",
       "    <tr>\n",
       "      <th>212</th>\n",
       "      <td>BNP Paribas</td>\n",
       "      <td>BNP Paribas sees an uptick for its 2020 target...</td>\n",
       "      <td>bb</td>\n",
       "      <td>BNP Paribas Sees Uptick for Its 2020 Targets</td>\n",
       "      <td>https://www.bloomberg.com/news/videos/2018-02-...</td>\n",
       "      <td>1597.txt</td>\n",
       "      <td>522</td>\n",
       "      <td>01:32:44</td>\n",
       "      <td>2018-02-06</td>\n",
       "      <td>2018-02-06</td>\n",
       "      <td>...</td>\n",
       "      <td>NaN</td>\n",
       "      <td>NaN</td>\n",
       "      <td>Unidentifiable</td>\n",
       "      <td>1</td>\n",
       "      <td>07:43:50</td>\n",
       "      <td>07:44:35</td>\n",
       "      <td>EST</td>\n",
       "      <td>https://archive.org/details/BLOOMBERG_20180210...</td>\n",
       "      <td>0</td>\n",
       "      <td>NaN</td>\n",
       "    </tr>\n",
       "    <tr>\n",
       "      <th>213</th>\n",
       "      <td>Rio Tinto</td>\n",
       "      <td>Rio Tinto CEO Jean-Sebastien Jacques discusses...</td>\n",
       "      <td>bb</td>\n",
       "      <td>Rio Tinto CEO Committed to Returning Cash to S...</td>\n",
       "      <td>https://www.bloomberg.com/news/videos/2018-02-...</td>\n",
       "      <td>1608.txt</td>\n",
       "      <td>562</td>\n",
       "      <td>09:07:27</td>\n",
       "      <td>2018-02-07</td>\n",
       "      <td>2018-02-07</td>\n",
       "      <td>...</td>\n",
       "      <td>NaN</td>\n",
       "      <td>NaN</td>\n",
       "      <td>Bloomberg Surveillance</td>\n",
       "      <td>0</td>\n",
       "      <td>14:34:40</td>\n",
       "      <td>14:38:44</td>\n",
       "      <td>EST</td>\n",
       "      <td>https://archive.org/details/BLOOMBERG_20180207...</td>\n",
       "      <td>0</td>\n",
       "      <td>NaN</td>\n",
       "    </tr>\n",
       "    <tr>\n",
       "      <th>214</th>\n",
       "      <td>Statoil</td>\n",
       "      <td>Statoil CEO Eldar Saetre weighs in on the oil ...</td>\n",
       "      <td>bb</td>\n",
       "      <td>Statoil CEO Saetre Sees Uncertainty in Oil Mar...</td>\n",
       "      <td>https://www.bloomberg.com/news/videos/2018-02-...</td>\n",
       "      <td>1606.txt</td>\n",
       "      <td>501</td>\n",
       "      <td>03:07:12</td>\n",
       "      <td>2018-02-07</td>\n",
       "      <td>2018-02-07</td>\n",
       "      <td>...</td>\n",
       "      <td>NaN</td>\n",
       "      <td>NaN</td>\n",
       "      <td>Bloomberg Daybreak: Europe</td>\n",
       "      <td>1</td>\n",
       "      <td>02:35:50</td>\n",
       "      <td>02:44:30</td>\n",
       "      <td>EST</td>\n",
       "      <td>https://archive.org/details/BLOOMBERG_20180207...</td>\n",
       "      <td>0</td>\n",
       "      <td>NaN</td>\n",
       "    </tr>\n",
       "    <tr>\n",
       "      <th>215</th>\n",
       "      <td>Intesa Sanpaolo</td>\n",
       "      <td>Carlo Messina, chief executive officer at Inte...</td>\n",
       "      <td>bb</td>\n",
       "      <td>Dalio Will Lose Money Shorting Intesa, Says CE...</td>\n",
       "      <td>https://www.bloomberg.com/news/videos/2018-02-...</td>\n",
       "      <td>5928.txt</td>\n",
       "      <td>688</td>\n",
       "      <td>06:17:53</td>\n",
       "      <td>2018-02-08</td>\n",
       "      <td>2018-02-06</td>\n",
       "      <td>...</td>\n",
       "      <td>NaN</td>\n",
       "      <td>NaN</td>\n",
       "      <td>Bloomberg Surveillance</td>\n",
       "      <td>1</td>\n",
       "      <td>04:32:20</td>\n",
       "      <td>04:44:05</td>\n",
       "      <td>EST</td>\n",
       "      <td>https://archive.org/details/BLOOMBERG_20180208...</td>\n",
       "      <td>0</td>\n",
       "      <td>NaN</td>\n",
       "    </tr>\n",
       "    <tr>\n",
       "      <th>216</th>\n",
       "      <td>Societe Generale</td>\n",
       "      <td>France's second-biggest bank Societe Generale ...</td>\n",
       "      <td>bb</td>\n",
       "      <td>Societe Generale CEO Oudea Sees Good Growth Pr...</td>\n",
       "      <td>https://www.bloomberg.com/news/videos/2018-02-...</td>\n",
       "      <td>1616.txt</td>\n",
       "      <td>624</td>\n",
       "      <td>01:15:32</td>\n",
       "      <td>2018-02-08</td>\n",
       "      <td>2018-02-08</td>\n",
       "      <td>...</td>\n",
       "      <td>NaN</td>\n",
       "      <td>NaN</td>\n",
       "      <td>Unidentifiable</td>\n",
       "      <td>1</td>\n",
       "      <td>01:20:12</td>\n",
       "      <td>01:23:05</td>\n",
       "      <td>EST</td>\n",
       "      <td>https://archive.org/details/BLOOMBERG_20180208...</td>\n",
       "      <td>0</td>\n",
       "      <td>NaN</td>\n",
       "    </tr>\n",
       "    <tr>\n",
       "      <th>217</th>\n",
       "      <td>Credit Suisse</td>\n",
       "      <td>Credit Suisse Group AG Chief Executive Officer...</td>\n",
       "      <td>bb</td>\n",
       "      <td>Credit Suisse CEO Thiam Sees No Contagion to C...</td>\n",
       "      <td>https://www.bloomberg.com/news/videos/2018-02-...</td>\n",
       "      <td>1638.txt</td>\n",
       "      <td>85</td>\n",
       "      <td>01:57:45</td>\n",
       "      <td>2018-02-14</td>\n",
       "      <td>2018-02-14</td>\n",
       "      <td>...</td>\n",
       "      <td>NaN</td>\n",
       "      <td>NaN</td>\n",
       "      <td>Leaders with Lacqua</td>\n",
       "      <td>1</td>\n",
       "      <td>01:50:15</td>\n",
       "      <td>01:55:36</td>\n",
       "      <td>EST</td>\n",
       "      <td>https://archive.org/details/BLOOMBERG_20180214...</td>\n",
       "      <td>0</td>\n",
       "      <td>NaN</td>\n",
       "    </tr>\n",
       "    <tr>\n",
       "      <th>218</th>\n",
       "      <td>Applied Materials Inc</td>\n",
       "      <td>Gary Dickerson, Applied Materials Inc.'s chief...</td>\n",
       "      <td>bb</td>\n",
       "      <td>Applied Materials CEO Says Business Is Stronge...</td>\n",
       "      <td>https://www.bloomberg.com/news/videos/2018-02-...</td>\n",
       "      <td>5956.txt</td>\n",
       "      <td>200</td>\n",
       "      <td>16:21:24</td>\n",
       "      <td>2018-02-15</td>\n",
       "      <td>2018-02-14</td>\n",
       "      <td>...</td>\n",
       "      <td>NaN</td>\n",
       "      <td>NaN</td>\n",
       "      <td>What'd You Miss?</td>\n",
       "      <td>1</td>\n",
       "      <td>17:33:10</td>\n",
       "      <td>17:38:25</td>\n",
       "      <td>EST</td>\n",
       "      <td>https://archive.org/details/BLOOMBERG_20180215...</td>\n",
       "      <td>0</td>\n",
       "      <td>NaN</td>\n",
       "    </tr>\n",
       "    <tr>\n",
       "      <th>219</th>\n",
       "      <td>Cisco Systems</td>\n",
       "      <td>Cisco Chairman and Chief Executive Officer Chu...</td>\n",
       "      <td>bb</td>\n",
       "      <td>Cisco CEO Robbins Says Tax Reform Helps Employees</td>\n",
       "      <td>https://www.bloomberg.com/news/videos/2018-02-...</td>\n",
       "      <td>5954.txt</td>\n",
       "      <td>373</td>\n",
       "      <td>10:32:22</td>\n",
       "      <td>2018-02-15</td>\n",
       "      <td>2018-02-14</td>\n",
       "      <td>...</td>\n",
       "      <td>NaN</td>\n",
       "      <td>NaN</td>\n",
       "      <td>Bloomberg Markets: The Open</td>\n",
       "      <td>0</td>\n",
       "      <td>14:47:48</td>\n",
       "      <td>14:48:17</td>\n",
       "      <td>EST</td>\n",
       "      <td>https://archive.org/details/BLOOMBERG_20180215...</td>\n",
       "      <td>0</td>\n",
       "      <td>NaN</td>\n",
       "    </tr>\n",
       "    <tr>\n",
       "      <th>220</th>\n",
       "      <td>Nestle SA</td>\n",
       "      <td>Nestle SA Chief Executive Officer Mark Schneid...</td>\n",
       "      <td>bb</td>\n",
       "      <td>Nestle CEO Schneider on Earnings, Growth Plans...</td>\n",
       "      <td>https://www.bloomberg.com/news/videos/2018-02-...</td>\n",
       "      <td>1651.txt</td>\n",
       "      <td>533</td>\n",
       "      <td>02:56:04</td>\n",
       "      <td>2018-02-15</td>\n",
       "      <td>2018-02-15</td>\n",
       "      <td>...</td>\n",
       "      <td>NaN</td>\n",
       "      <td>NaN</td>\n",
       "      <td>Unidentifiable</td>\n",
       "      <td>1</td>\n",
       "      <td>11:15:10</td>\n",
       "      <td>11:16:55</td>\n",
       "      <td>EST</td>\n",
       "      <td>https://archive.org/details/BLOOMBERG_20180215...</td>\n",
       "      <td>0</td>\n",
       "      <td>NaN</td>\n",
       "    </tr>\n",
       "    <tr>\n",
       "      <th>221</th>\n",
       "      <td>BHP Billiton</td>\n",
       "      <td>Andrew Mackenzie, chief executive officer at B...</td>\n",
       "      <td>bb</td>\n",
       "      <td>BHP CEO Sees Lots of Interest in $10 Billion S...</td>\n",
       "      <td>https://www.bloomberg.com/news/videos/2018-02-...</td>\n",
       "      <td>1678.txt</td>\n",
       "      <td>295</td>\n",
       "      <td>10:25:56</td>\n",
       "      <td>2018-02-20</td>\n",
       "      <td>2018-02-20</td>\n",
       "      <td>...</td>\n",
       "      <td>NaN</td>\n",
       "      <td>NaN</td>\n",
       "      <td>Bloomberg Markets: The Open</td>\n",
       "      <td>0</td>\n",
       "      <td>11:22:35</td>\n",
       "      <td>11:24:57</td>\n",
       "      <td>EST</td>\n",
       "      <td>https://archive.org/details/BLOOMBERG_20180220...</td>\n",
       "      <td>0</td>\n",
       "      <td>NaN</td>\n",
       "    </tr>\n",
       "    <tr>\n",
       "      <th>222</th>\n",
       "      <td>Domino's Pizza</td>\n",
       "      <td>Patrick Doyle, Domino's Pizza chief executive ...</td>\n",
       "      <td>bb</td>\n",
       "      <td>Domino's CEO Says 60 Percent of Sales Are Digital</td>\n",
       "      <td>https://www.bloomberg.com/news/videos/2018-02-...</td>\n",
       "      <td>5968.txt</td>\n",
       "      <td>305</td>\n",
       "      <td>13:22:06</td>\n",
       "      <td>2018-02-20</td>\n",
       "      <td>2018-02-20</td>\n",
       "      <td>...</td>\n",
       "      <td>NaN</td>\n",
       "      <td>NaN</td>\n",
       "      <td>Bloomberg Markets</td>\n",
       "      <td>0</td>\n",
       "      <td>12:32:53</td>\n",
       "      <td>12:38:05</td>\n",
       "      <td>EST</td>\n",
       "      <td>https://archive.org/details/BLOOMBERG_20180220...</td>\n",
       "      <td>0</td>\n",
       "      <td>NaN</td>\n",
       "    </tr>\n",
       "    <tr>\n",
       "      <th>223</th>\n",
       "      <td>Duke Energy</td>\n",
       "      <td>Duke Energy CEO Lynn Good, discusses fourth-qu...</td>\n",
       "      <td>bb</td>\n",
       "      <td>Duke Energy CEO Says Customers Will See 'Benef...</td>\n",
       "      <td>https://www.bloomberg.com/news/videos/2018-02-...</td>\n",
       "      <td>5965.txt</td>\n",
       "      <td>328</td>\n",
       "      <td>09:48:22</td>\n",
       "      <td>2018-02-20</td>\n",
       "      <td>2018-02-20</td>\n",
       "      <td>...</td>\n",
       "      <td>NaN</td>\n",
       "      <td>NaN</td>\n",
       "      <td>Bloomberg Daybreak: Americas</td>\n",
       "      <td>0</td>\n",
       "      <td>07:33:30</td>\n",
       "      <td>07:39:10</td>\n",
       "      <td>EST</td>\n",
       "      <td>https://archive.org/details/BLOOMBERG_20180220...</td>\n",
       "      <td>0</td>\n",
       "      <td>NaN</td>\n",
       "    </tr>\n",
       "    <tr>\n",
       "      <th>224</th>\n",
       "      <td>IHG</td>\n",
       "      <td>Keith Barr, chief executive officer at IHG, di...</td>\n",
       "      <td>bb</td>\n",
       "      <td>IHG CEO on Full-Year Earnings, Growth in China...</td>\n",
       "      <td>https://www.bloomberg.com/news/videos/2018-02-...</td>\n",
       "      <td>1672.txt</td>\n",
       "      <td>382</td>\n",
       "      <td>04:19:04</td>\n",
       "      <td>2018-02-20</td>\n",
       "      <td>2018-02-20</td>\n",
       "      <td>...</td>\n",
       "      <td>NaN</td>\n",
       "      <td>NaN</td>\n",
       "      <td>Bloomberg Markets: European Open</td>\n",
       "      <td>1</td>\n",
       "      <td>02:33:00</td>\n",
       "      <td>02:39:40</td>\n",
       "      <td>EST</td>\n",
       "      <td>https://archive.org/details/BLOOMBERG_20180220...</td>\n",
       "      <td>0</td>\n",
       "      <td>NaN</td>\n",
       "    </tr>\n",
       "    <tr>\n",
       "      <th>225</th>\n",
       "      <td>Newfield Exploration</td>\n",
       "      <td>Lee Boothby, chairman and chief executive offi...</td>\n",
       "      <td>bb</td>\n",
       "      <td>Newfield CEO Says Focus on Generating Free Cas...</td>\n",
       "      <td>https://www.bloomberg.com/news/videos/2018-02-...</td>\n",
       "      <td>1684.txt</td>\n",
       "      <td>253</td>\n",
       "      <td>17:15:04</td>\n",
       "      <td>2018-02-21</td>\n",
       "      <td>2018-02-20</td>\n",
       "      <td>...</td>\n",
       "      <td>NaN</td>\n",
       "      <td>NaN</td>\n",
       "      <td>Bloomberg Markets</td>\n",
       "      <td>1</td>\n",
       "      <td>15:47:00</td>\n",
       "      <td>15:52:48</td>\n",
       "      <td>EST</td>\n",
       "      <td>https://archive.org/details/BLOOMBERG_20180221...</td>\n",
       "      <td>0</td>\n",
       "      <td>NaN</td>\n",
       "    </tr>\n",
       "    <tr>\n",
       "      <th>226</th>\n",
       "      <td>Anglo American</td>\n",
       "      <td>Mark Cutifani, chief executive officer at Angl...</td>\n",
       "      <td>bb</td>\n",
       "      <td>Anglo American CEO Says Debt Reduction Remains...</td>\n",
       "      <td>https://www.bloomberg.com/news/videos/2018-02-...</td>\n",
       "      <td>1689.txt</td>\n",
       "      <td>329</td>\n",
       "      <td>05:29:44</td>\n",
       "      <td>2018-02-22</td>\n",
       "      <td>2018-02-22</td>\n",
       "      <td>...</td>\n",
       "      <td>NaN</td>\n",
       "      <td>NaN</td>\n",
       "      <td>Bloomberg Markets: European Open</td>\n",
       "      <td>1</td>\n",
       "      <td>03:21:10</td>\n",
       "      <td>03:26:55</td>\n",
       "      <td>EST</td>\n",
       "      <td>https://archive.org/details/BLOOMBERG_20180222...</td>\n",
       "      <td>0</td>\n",
       "      <td>NaN</td>\n",
       "    </tr>\n",
       "    <tr>\n",
       "      <th>227</th>\n",
       "      <td>Deutsche Telekom</td>\n",
       "      <td>Tim Hoettges, chief executive officer of Deuts...</td>\n",
       "      <td>bb</td>\n",
       "      <td>Deutsche Telekom CEO Says Expanding 'Big Time ...</td>\n",
       "      <td>https://www.bloomberg.com/news/videos/2018-02-...</td>\n",
       "      <td>5981.txt</td>\n",
       "      <td>422</td>\n",
       "      <td>07:48:39</td>\n",
       "      <td>2018-02-22</td>\n",
       "      <td>2018-02-22</td>\n",
       "      <td>...</td>\n",
       "      <td>NaN</td>\n",
       "      <td>NaN</td>\n",
       "      <td>Bloomberg Surveillance</td>\n",
       "      <td>1</td>\n",
       "      <td>06:31:50</td>\n",
       "      <td>06:39:05</td>\n",
       "      <td>EST</td>\n",
       "      <td>https://archive.org/details/BLOOMBERG_20180222...</td>\n",
       "      <td>0</td>\n",
       "      <td>NaN</td>\n",
       "    </tr>\n",
       "    <tr>\n",
       "      <th>228</th>\n",
       "      <td>Century Aluminum</td>\n",
       "      <td>Mike Bless, chief executive officer at Century...</td>\n",
       "      <td>bb</td>\n",
       "      <td>Century Aluminum CEO Says Plants, Jobs Ready f...</td>\n",
       "      <td>https://www.bloomberg.com/news/videos/2018-02-...</td>\n",
       "      <td>5986.txt</td>\n",
       "      <td>298</td>\n",
       "      <td>09:38:02</td>\n",
       "      <td>2018-02-23</td>\n",
       "      <td>2018-02-22</td>\n",
       "      <td>...</td>\n",
       "      <td>NaN</td>\n",
       "      <td>NaN</td>\n",
       "      <td>Bloomberg Daybreak: Americas</td>\n",
       "      <td>0</td>\n",
       "      <td>08:31:57</td>\n",
       "      <td>08:36:59</td>\n",
       "      <td>EST</td>\n",
       "      <td>https://archive.org/details/BLOOMBERG_20180223...</td>\n",
       "      <td>0</td>\n",
       "      <td>NaN</td>\n",
       "    </tr>\n",
       "    <tr>\n",
       "      <th>229</th>\n",
       "      <td>Pearson</td>\n",
       "      <td>John Fallon, chief executive officer at Pearso...</td>\n",
       "      <td>bb</td>\n",
       "      <td>Pearson CEO Says Board, Shareholders Recognize...</td>\n",
       "      <td>https://www.bloomberg.com/news/videos/2018-02-...</td>\n",
       "      <td>1695.txt</td>\n",
       "      <td>427</td>\n",
       "      <td>09:17:22</td>\n",
       "      <td>2018-02-23</td>\n",
       "      <td>2018-02-23</td>\n",
       "      <td>...</td>\n",
       "      <td>NaN</td>\n",
       "      <td>NaN</td>\n",
       "      <td>Bloomberg Markets: Americas</td>\n",
       "      <td>0</td>\n",
       "      <td>08:38:00</td>\n",
       "      <td>08:44:33</td>\n",
       "      <td>EST</td>\n",
       "      <td>https://archive.org/details/BLOOMBERG_20180223...</td>\n",
       "      <td>0</td>\n",
       "      <td>NaN</td>\n",
       "    </tr>\n",
       "  </tbody>\n",
       "</table>\n",
       "<p>40 rows × 21 columns</p>\n",
       "</div>"
      ],
      "text/plain": [
       "                 comp_name                                        description  \\\n",
       "190                  Bayer  Werner Baumann, chief executive officer at Bay...   \n",
       "191              CME Group  Terry Duffy, CME Group chairman and chief exec...   \n",
       "192         Dunkin' Brands  Nigel Travis, Dunkin' Brands Group chief execu...   \n",
       "193                Expedia  Mark Okerstrom, chief executive officer at Exp...   \n",
       "194            BNP Paribas  BNP Paribas CFO Lars Machenil discusses the th...   \n",
       "195       Societe Generale  Societe Generale Chief Executive Officer Frede...   \n",
       "196                    IAC  Joey Levin, chief executive officer at IAC, ta...   \n",
       "197        Intesa Sanpaolo  Carlo Messina, chief executive officer at Inte...   \n",
       "198                Siemens  Siemens CEO Joe Kaeser discusses the company's...   \n",
       "199                 VMware  Pat Gelsinger, VMware's chief executive office...   \n",
       "200                   BB&T  BB&T Corp. Chairman and CEO Kelly King discuss...   \n",
       "201                 SAP SE  Bill McDermott, chief executive officer at SAP...   \n",
       "202              CME Group  Terry Duffy, chairman and chief executive offi...   \n",
       "203           Novo Nordisk  Lars Fruergaard Jorgensen, chief executive off...   \n",
       "204                 PayPal  PayPal CFO John Rainey discusses EBay's shift ...   \n",
       "205      Royal Dutch Shell  Royal Dutch Shell CEO Ben van Beurden discusse...   \n",
       "206               Unilever  Paul Polman, chief executive officer at Unilev...   \n",
       "207  United Parcel Service  United Parcel Service CFO Richard Peretz discu...   \n",
       "208            Danske Bank  Jacob Aarup-Andersen, Danske Bank CFO, says Da...   \n",
       "209          Deutsche Bank  Deutsche Bank AG Chief Executive Officer John ...   \n",
       "210     Marathon Petroleum  Marathon Petroleum CEO Gary Heminger, discusse...   \n",
       "211                Ryanair  Ryanair CFO Neil Sorahan discusses the perform...   \n",
       "212            BNP Paribas  BNP Paribas sees an uptick for its 2020 target...   \n",
       "213              Rio Tinto  Rio Tinto CEO Jean-Sebastien Jacques discusses...   \n",
       "214                Statoil  Statoil CEO Eldar Saetre weighs in on the oil ...   \n",
       "215        Intesa Sanpaolo  Carlo Messina, chief executive officer at Inte...   \n",
       "216       Societe Generale  France's second-biggest bank Societe Generale ...   \n",
       "217          Credit Suisse  Credit Suisse Group AG Chief Executive Officer...   \n",
       "218  Applied Materials Inc  Gary Dickerson, Applied Materials Inc.'s chief...   \n",
       "219          Cisco Systems  Cisco Chairman and Chief Executive Officer Chu...   \n",
       "220              Nestle SA  Nestle SA Chief Executive Officer Mark Schneid...   \n",
       "221           BHP Billiton  Andrew Mackenzie, chief executive officer at B...   \n",
       "222         Domino's Pizza  Patrick Doyle, Domino's Pizza chief executive ...   \n",
       "223            Duke Energy  Duke Energy CEO Lynn Good, discusses fourth-qu...   \n",
       "224                    IHG  Keith Barr, chief executive officer at IHG, di...   \n",
       "225   Newfield Exploration  Lee Boothby, chairman and chief executive offi...   \n",
       "226         Anglo American  Mark Cutifani, chief executive officer at Angl...   \n",
       "227       Deutsche Telekom  Tim Hoettges, chief executive officer of Deuts...   \n",
       "228       Century Aluminum  Mike Bless, chief executive officer at Century...   \n",
       "229                Pearson  John Fallon, chief executive officer at Pearso...   \n",
       "\n",
       "    source                                              title  \\\n",
       "190     bb  Bayers' CEO Says Rapidly Shifting to Life Scie...   \n",
       "191     bb  CME Group CEO Duffy Says Investors Need to Man...   \n",
       "192     bb  Dunkin' CEO Sees Lack of Labor as Biggest Problem   \n",
       "193     bb  Expedia CEO Says Short-Term Results Are All Ab...   \n",
       "194     bb  BNP Paribas CFO on 3Q Results, ECB Policy, Acq...   \n",
       "195     bb     SocGen CEO on Tech Changes in European Banking   \n",
       "196     bb  IAC CEO Levin Says There's No Formula for Spin...   \n",
       "197     bb  Intesa CEO Says Remaining 'Significant' Divide...   \n",
       "198     bb      Siemens Plans Job Cuts in Power, Gas Division   \n",
       "199     bb  VMware CEO on Earnings, Partnerships With AWS ...   \n",
       "200     bb  BB&T CEO Sees Broad-Based Set of Benefits From...   \n",
       "201     bb     SAP CEO Says Callidus Deal Too Good to Pass Up   \n",
       "202     bb  CME Has No Imminent Plan to Expand Beyond Bitc...   \n",
       "203     bb  Novo Nordisk CEO Is 'Quite Optimistic' About 2...   \n",
       "204     bb  PayPal CFO Says EBay's Shift to Ayden Was 'Com...   \n",
       "205     bb  Shell's Best Profit in 3 Years Marred by Cash-...   \n",
       "206     bb  Unilever CEO on 2017 Earnings, Profit for Shar...   \n",
       "207     bb  UPS CFO Says Shipper Using Tax Savings for Inv...   \n",
       "208     bb  Danske CFO Expects Basel III Proposal May Be M...   \n",
       "209     bb     Deutsche Bank CEO Doesn't Rule Out Combination   \n",
       "210     bb  Marathon Petroleum CEO Expecting Flat 2018 Demand   \n",
       "211     bb  Ryanair CFO Says 4Q Fares Will Be 'Slightly Up...   \n",
       "212     bb       BNP Paribas Sees Uptick for Its 2020 Targets   \n",
       "213     bb  Rio Tinto CEO Committed to Returning Cash to S...   \n",
       "214     bb  Statoil CEO Saetre Sees Uncertainty in Oil Mar...   \n",
       "215     bb  Dalio Will Lose Money Shorting Intesa, Says CE...   \n",
       "216     bb  Societe Generale CEO Oudea Sees Good Growth Pr...   \n",
       "217     bb  Credit Suisse CEO Thiam Sees No Contagion to C...   \n",
       "218     bb  Applied Materials CEO Says Business Is Stronge...   \n",
       "219     bb  Cisco CEO Robbins Says Tax Reform Helps Employees   \n",
       "220     bb  Nestle CEO Schneider on Earnings, Growth Plans...   \n",
       "221     bb  BHP CEO Sees Lots of Interest in $10 Billion S...   \n",
       "222     bb  Domino's CEO Says 60 Percent of Sales Are Digital   \n",
       "223     bb  Duke Energy CEO Says Customers Will See 'Benef...   \n",
       "224     bb  IHG CEO on Full-Year Earnings, Growth in China...   \n",
       "225     bb  Newfield CEO Says Focus on Generating Free Cas...   \n",
       "226     bb  Anglo American CEO Says Debt Reduction Remains...   \n",
       "227     bb  Deutsche Telekom CEO Says Expanding 'Big Time ...   \n",
       "228     bb  Century Aluminum CEO Says Plants, Jobs Ready f...   \n",
       "229     bb  Pearson CEO Says Board, Shareholders Recognize...   \n",
       "\n",
       "                                                   url   fn_name  \\\n",
       "190  https://www.bloomberg.com/news/videos/2017-10-...  1072.txt   \n",
       "191  https://www.bloomberg.com/news/videos/2017-10-...  5635.txt   \n",
       "192  https://www.bloomberg.com/news/videos/2017-10-...  1080.txt   \n",
       "193  https://www.bloomberg.com/news/videos/2017-10-...  5637.txt   \n",
       "194  https://www.bloomberg.com/news/videos/2017-10-...  1104.txt   \n",
       "195  https://www.bloomberg.com/news/videos/2017-11-...  5660.txt   \n",
       "196  https://www.bloomberg.com/news/videos/2017-11-...  1183.txt   \n",
       "197  https://www.bloomberg.com/news/videos/2017-11-...  1178.txt   \n",
       "198  https://www.bloomberg.com/news/videos/2017-11-...  1170.txt   \n",
       "199  https://www.bloomberg.com/news/videos/2017-12-...  5737.txt   \n",
       "200  https://www.bloomberg.com/news/videos/2018-01-...  1470.txt   \n",
       "201  https://www.bloomberg.com/news/videos/2018-01-...  1551.txt   \n",
       "202  https://www.bloomberg.com/news/videos/2018-02-...  1575.txt   \n",
       "203  https://www.bloomberg.com/news/videos/2018-02-...  5902.txt   \n",
       "204  https://www.bloomberg.com/news/videos/2018-02-...  5904.txt   \n",
       "205  https://www.bloomberg.com/news/videos/2018-02-...  1569.txt   \n",
       "206  https://www.bloomberg.com/news/videos/2018-02-...  1571.txt   \n",
       "207  https://www.bloomberg.com/news/videos/2018-02-...  1574.txt   \n",
       "208  https://www.bloomberg.com/news/videos/2018-02-...  1578.txt   \n",
       "209  https://www.bloomberg.com/news/videos/2018-02-...  5906.txt   \n",
       "210  https://www.bloomberg.com/news/videos/2018-02-...  5907.txt   \n",
       "211  https://www.bloomberg.com/news/videos/2018-02-...  1584.txt   \n",
       "212  https://www.bloomberg.com/news/videos/2018-02-...  1597.txt   \n",
       "213  https://www.bloomberg.com/news/videos/2018-02-...  1608.txt   \n",
       "214  https://www.bloomberg.com/news/videos/2018-02-...  1606.txt   \n",
       "215  https://www.bloomberg.com/news/videos/2018-02-...  5928.txt   \n",
       "216  https://www.bloomberg.com/news/videos/2018-02-...  1616.txt   \n",
       "217  https://www.bloomberg.com/news/videos/2018-02-...  1638.txt   \n",
       "218  https://www.bloomberg.com/news/videos/2018-02-...  5956.txt   \n",
       "219  https://www.bloomberg.com/news/videos/2018-02-...  5954.txt   \n",
       "220  https://www.bloomberg.com/news/videos/2018-02-...  1651.txt   \n",
       "221  https://www.bloomberg.com/news/videos/2018-02-...  1678.txt   \n",
       "222  https://www.bloomberg.com/news/videos/2018-02-...  5968.txt   \n",
       "223  https://www.bloomberg.com/news/videos/2018-02-...  5965.txt   \n",
       "224  https://www.bloomberg.com/news/videos/2018-02-...  1672.txt   \n",
       "225  https://www.bloomberg.com/news/videos/2018-02-...  1684.txt   \n",
       "226  https://www.bloomberg.com/news/videos/2018-02-...  1689.txt   \n",
       "227  https://www.bloomberg.com/news/videos/2018-02-...  5981.txt   \n",
       "228  https://www.bloomberg.com/news/videos/2018-02-...  5986.txt   \n",
       "229  https://www.bloomberg.com/news/videos/2018-02-...  1695.txt   \n",
       "\n",
       "     duration_in_script TIME_in_script       DATE        rdq  ...  MULTI_DUP  \\\n",
       "190                 312       04:42:11 2017-10-26 2017-10-26  ...        NaN   \n",
       "191                 144       16:00:17 2017-10-26 2017-10-26  ...        1.0   \n",
       "192                 168       16:21:17 2017-10-26 2017-10-26  ...        NaN   \n",
       "193                 175       11:33:00 2017-10-27 2017-10-26  ...        NaN   \n",
       "194                 494       02:08:42 2017-10-31 2017-10-31  ...        NaN   \n",
       "195                 504       12:35:31 2017-11-07 2017-11-03  ...        NaN   \n",
       "196                 197       11:54:01 2017-11-09 2017-11-08  ...        1.0   \n",
       "197                 151       06:19:15 2017-11-09 2017-11-07  ...        NaN   \n",
       "198                 324       02:26:51 2017-11-09 2017-11-09  ...        NaN   \n",
       "199                 209       18:41:56 2017-12-01 2017-11-30  ...        NaN   \n",
       "200                 237       17:13:54 2018-01-18 2018-01-18  ...        NaN   \n",
       "201                 434       03:47:33 2018-01-30 2018-01-30  ...        NaN   \n",
       "202                 663       15:21:00 2018-02-01 2018-02-01  ...        NaN   \n",
       "203                 335       05:22:30 2018-02-01 2018-02-01  ...        NaN   \n",
       "204                 283       12:54:13 2018-02-01 2018-01-31  ...        NaN   \n",
       "205                 415       03:10:46 2018-02-01 2018-02-01  ...        NaN   \n",
       "206                 264       03:55:29 2018-02-01 2018-02-01  ...        NaN   \n",
       "207                 105       14:14:59 2018-02-01 2018-02-01  ...        NaN   \n",
       "208                 396       06:00:11 2018-02-02 2018-02-02  ...        NaN   \n",
       "209                 501       07:58:51 2018-02-02 2018-02-02  ...        NaN   \n",
       "210                 377       08:30:59 2018-02-02 2018-02-01  ...        NaN   \n",
       "211                 395       01:50:36 2018-02-05 2018-02-05  ...        NaN   \n",
       "212                 522       01:32:44 2018-02-06 2018-02-06  ...        NaN   \n",
       "213                 562       09:07:27 2018-02-07 2018-02-07  ...        NaN   \n",
       "214                 501       03:07:12 2018-02-07 2018-02-07  ...        NaN   \n",
       "215                 688       06:17:53 2018-02-08 2018-02-06  ...        NaN   \n",
       "216                 624       01:15:32 2018-02-08 2018-02-08  ...        NaN   \n",
       "217                  85       01:57:45 2018-02-14 2018-02-14  ...        NaN   \n",
       "218                 200       16:21:24 2018-02-15 2018-02-14  ...        NaN   \n",
       "219                 373       10:32:22 2018-02-15 2018-02-14  ...        NaN   \n",
       "220                 533       02:56:04 2018-02-15 2018-02-15  ...        NaN   \n",
       "221                 295       10:25:56 2018-02-20 2018-02-20  ...        NaN   \n",
       "222                 305       13:22:06 2018-02-20 2018-02-20  ...        NaN   \n",
       "223                 328       09:48:22 2018-02-20 2018-02-20  ...        NaN   \n",
       "224                 382       04:19:04 2018-02-20 2018-02-20  ...        NaN   \n",
       "225                 253       17:15:04 2018-02-21 2018-02-20  ...        NaN   \n",
       "226                 329       05:29:44 2018-02-22 2018-02-22  ...        NaN   \n",
       "227                 422       07:48:39 2018-02-22 2018-02-22  ...        NaN   \n",
       "228                 298       09:38:02 2018-02-23 2018-02-22  ...        NaN   \n",
       "229                 427       09:17:22 2018-02-23 2018-02-23  ...        NaN   \n",
       "\n",
       "     DIFF_PROG                           PROGRAM transcript_needed  \\\n",
       "190        NaN  Bloomberg Markets: European Open                 1   \n",
       "191        NaN                 Bloomberg Markets                 1   \n",
       "192        NaN                  What'd You Miss?                 1   \n",
       "193        NaN                 Bloomberg Markets                 0   \n",
       "194        NaN                    Unidentifiable                 1   \n",
       "195        NaN                    Unidentifiable                 1   \n",
       "196        NaN                 Bloomberg Markets                 1   \n",
       "197        NaN            Bloomberg Surveillance                 1   \n",
       "198        NaN        Bloomberg Daybreak: Europe                 1   \n",
       "199        NaN              Bloomberg Technology                 1   \n",
       "200        NaN                  What'd You Miss?                 1   \n",
       "201        NaN  Bloomberg Markets: European Open                 1   \n",
       "202        NaN       Bloomberg Markets: Americas                 0   \n",
       "203        NaN  Bloomberg Markets: European Open                 0   \n",
       "204        NaN                 Bloomberg Markets                 0   \n",
       "205        NaN                 Bloomberg Markets                 1   \n",
       "206        NaN  Bloomberg Markets: European Open                 1   \n",
       "207        NaN                 Bloomberg Markets                 0   \n",
       "208        NaN            Bloomberg Surveillance                 1   \n",
       "209        NaN  Bloomberg Markets: European Open                 1   \n",
       "210        NaN       Bloomberg Markets: Americas                 0   \n",
       "211        NaN        Bloomberg Daybreak: Europe                 1   \n",
       "212        NaN                    Unidentifiable                 1   \n",
       "213        NaN            Bloomberg Surveillance                 0   \n",
       "214        NaN        Bloomberg Daybreak: Europe                 1   \n",
       "215        NaN            Bloomberg Surveillance                 1   \n",
       "216        NaN                    Unidentifiable                 1   \n",
       "217        NaN               Leaders with Lacqua                 1   \n",
       "218        NaN                  What'd You Miss?                 1   \n",
       "219        NaN       Bloomberg Markets: The Open                 0   \n",
       "220        NaN                    Unidentifiable                 1   \n",
       "221        NaN       Bloomberg Markets: The Open                 0   \n",
       "222        NaN                 Bloomberg Markets                 0   \n",
       "223        NaN      Bloomberg Daybreak: Americas                 0   \n",
       "224        NaN  Bloomberg Markets: European Open                 1   \n",
       "225        NaN                 Bloomberg Markets                 1   \n",
       "226        NaN  Bloomberg Markets: European Open                 1   \n",
       "227        NaN            Bloomberg Surveillance                 1   \n",
       "228        NaN      Bloomberg Daybreak: Americas                 0   \n",
       "229        NaN       Bloomberg Markets: Americas                 0   \n",
       "\n",
       "     Start_time  End_time Time_in_EST_Other  \\\n",
       "190    03:04:50  03:10:14               EDT   \n",
       "191    15:00:48  15:09:59               EDT   \n",
       "192    15:42:50  15:48:12               EDT   \n",
       "193    10:41:40  10:49:05               EDT   \n",
       "194    02:21:00  02:23:40               EDT   \n",
       "195    11:07:50  11:11:48               EST   \n",
       "196    10:32:00  10:41:50               EST   \n",
       "197    04:32:50  04:41:26               EST   \n",
       "198    01:51:10  01:56:40               EST   \n",
       "199    17:33:15  17:38:13               EST   \n",
       "200    16:15:50  16:21:41               EST   \n",
       "201    02:48:00  02:55:30               EST   \n",
       "202    14:14:30  14:20:23               EST   \n",
       "203    03:21:00  03:26:45               EST   \n",
       "204    23:41:00  23:44:05               EST   \n",
       "205    02:43:15  02:49:50               EST   \n",
       "206    02:50:10  02:54:40               EST   \n",
       "207    10:31:55  10:37:41               EST   \n",
       "208    04:19:31  04:26:24               EST   \n",
       "209    14:54:10  14:56:00               EST   \n",
       "210    07:15:05  07:21:40               EST   \n",
       "211    01:20:03  01:26:55               EST   \n",
       "212    07:43:50  07:44:35               EST   \n",
       "213    14:34:40  14:38:44               EST   \n",
       "214    02:35:50  02:44:30               EST   \n",
       "215    04:32:20  04:44:05               EST   \n",
       "216    01:20:12  01:23:05               EST   \n",
       "217    01:50:15  01:55:36               EST   \n",
       "218    17:33:10  17:38:25               EST   \n",
       "219    14:47:48  14:48:17               EST   \n",
       "220    11:15:10  11:16:55               EST   \n",
       "221    11:22:35  11:24:57               EST   \n",
       "222    12:32:53  12:38:05               EST   \n",
       "223    07:33:30  07:39:10               EST   \n",
       "224    02:33:00  02:39:40               EST   \n",
       "225    15:47:00  15:52:48               EST   \n",
       "226    03:21:10  03:26:55               EST   \n",
       "227    06:31:50  06:39:05               EST   \n",
       "228    08:31:57  08:36:59               EST   \n",
       "229    08:38:00  08:44:33               EST   \n",
       "\n",
       "                                           achived url archived_missing  \\\n",
       "190  https://archive.org/details/BLOOMBERG_20171026...                0   \n",
       "191  https://archive.org/details/BLOOMBERG_20171026...                0   \n",
       "192  https://archive.org/details/BLOOMBERG_20171026...                0   \n",
       "193  https://archive.org/details/BLOOMBERG_20171027...                0   \n",
       "194  https://archive.org/details/BLOOMBERG_20171031...                0   \n",
       "195  https://archive.org/details/BLOOMBERG_20171107...                0   \n",
       "196  https://archive.org/details/BLOOMBERG_20171109...                0   \n",
       "197  https://archive.org/details/BLOOMBERG_20171109...                0   \n",
       "198  https://archive.org/details/BLOOMBERG_20171109...                0   \n",
       "199  https://archive.org/details/BLOOMBERG_20171201...                0   \n",
       "200  https://archive.org/details/BLOOMBERG_20180118...                0   \n",
       "201  https://archive.org/details/BLOOMBERG_20180130...                0   \n",
       "202  https://archive.org/details/BLOOMBERG_20180201...                0   \n",
       "203  https://archive.org/details/BLOOMBERG_20180201...                0   \n",
       "204  https://archive.org/details/BLOOMBERG_20180202...                0   \n",
       "205  https://archive.org/details/BLOOMBERG_20180201...                0   \n",
       "206  https://archive.org/details/BLOOMBERG_20180201...                0   \n",
       "207  https://archive.org/details/BLOOMBERG_20180201...                0   \n",
       "208  https://archive.org/details/BLOOMBERG_20180202...                0   \n",
       "209  https://archive.org/details/BLOOMBERG_20180202...                0   \n",
       "210  https://archive.org/details/BLOOMBERG_20180202...                0   \n",
       "211  https://archive.org/details/BLOOMBERG_20180205...                0   \n",
       "212  https://archive.org/details/BLOOMBERG_20180210...                0   \n",
       "213  https://archive.org/details/BLOOMBERG_20180207...                0   \n",
       "214  https://archive.org/details/BLOOMBERG_20180207...                0   \n",
       "215  https://archive.org/details/BLOOMBERG_20180208...                0   \n",
       "216  https://archive.org/details/BLOOMBERG_20180208...                0   \n",
       "217  https://archive.org/details/BLOOMBERG_20180214...                0   \n",
       "218  https://archive.org/details/BLOOMBERG_20180215...                0   \n",
       "219  https://archive.org/details/BLOOMBERG_20180215...                0   \n",
       "220  https://archive.org/details/BLOOMBERG_20180215...                0   \n",
       "221  https://archive.org/details/BLOOMBERG_20180220...                0   \n",
       "222  https://archive.org/details/BLOOMBERG_20180220...                0   \n",
       "223  https://archive.org/details/BLOOMBERG_20180220...                0   \n",
       "224  https://archive.org/details/BLOOMBERG_20180220...                0   \n",
       "225  https://archive.org/details/BLOOMBERG_20180221...                0   \n",
       "226  https://archive.org/details/BLOOMBERG_20180222...                0   \n",
       "227  https://archive.org/details/BLOOMBERG_20180222...                0   \n",
       "228  https://archive.org/details/BLOOMBERG_20180223...                0   \n",
       "229  https://archive.org/details/BLOOMBERG_20180223...                0   \n",
       "\n",
       "     Replay  \n",
       "190     NaN  \n",
       "191     NaN  \n",
       "192     NaN  \n",
       "193     NaN  \n",
       "194     NaN  \n",
       "195     NaN  \n",
       "196     NaN  \n",
       "197     NaN  \n",
       "198     NaN  \n",
       "199     NaN  \n",
       "200     NaN  \n",
       "201     NaN  \n",
       "202     NaN  \n",
       "203     NaN  \n",
       "204     NaN  \n",
       "205     NaN  \n",
       "206     NaN  \n",
       "207     NaN  \n",
       "208     NaN  \n",
       "209     NaN  \n",
       "210     NaN  \n",
       "211     NaN  \n",
       "212     NaN  \n",
       "213     NaN  \n",
       "214     NaN  \n",
       "215     NaN  \n",
       "216     NaN  \n",
       "217     NaN  \n",
       "218     NaN  \n",
       "219     NaN  \n",
       "220     NaN  \n",
       "221     NaN  \n",
       "222     NaN  \n",
       "223     NaN  \n",
       "224     NaN  \n",
       "225     NaN  \n",
       "226     NaN  \n",
       "227     NaN  \n",
       "228     NaN  \n",
       "229     NaN  \n",
       "\n",
       "[40 rows x 21 columns]"
      ]
     },
     "execution_count": 17,
     "metadata": {},
     "output_type": "execute_result"
    }
   ],
   "source": [
    "df[190:]"
   ]
  },
  {
   "cell_type": "markdown",
   "id": "63d412c7",
   "metadata": {},
   "source": [
    "## API Speech to Text"
   ]
  },
  {
   "cell_type": "code",
   "execution_count": 128,
   "id": "0c841819",
   "metadata": {},
   "outputs": [],
   "source": [
    "def speech_to_txt(filename):\n",
    "    speech_config = speechsdk.SpeechConfig(subscription=\"ab65be6b1f94481294721ccf173802e2\", region=\"eastus\")\n",
    "    speech_config.speech_recognition_language=\"en-US\"\n",
    "\n",
    "    #To recognize speech from an audio file, use `filename` instead of `use_default_microphone`:\n",
    "    #audio_config = speechsdk.audio.AudioConfig(filename=\"YourAudioFile.wav\")\n",
    "    audio_config = speechsdk.audio.AudioConfig(filename = filename)\n",
    "    speech_recognizer = speechsdk.SpeechRecognizer(speech_config=speech_config, audio_config=audio_config)\n",
    "\n",
    "    speech_recognition_result = speech_recognizer.recognize_once_async().get()\n",
    "\n",
    "    if speech_recognition_result.reason == speechsdk.ResultReason.RecognizedSpeech:\n",
    "        return speech_recognition_result.text\n",
    "    elif speech_recognition_result.reason == speechsdk.ResultReason.NoMatch:\n",
    "        print(\"No speech could be recognized: {}\".format(speech_recognition_result.no_match_details))\n",
    "    elif speech_recognition_result.reason == speechsdk.ResultReason.Canceled:\n",
    "        cancellation_details = speech_recognition_result.cancellation_details\n",
    "        print(\"Speech Recognition canceled: {}\".format(cancellation_details.reason))\n",
    "        if cancellation_details.reason == speechsdk.CancellationReason.Error:\n",
    "            print(\"Error details: {}\".format(cancellation_details.error_details))"
   ]
  },
  {
   "cell_type": "code",
   "execution_count": 117,
   "id": "126dc4c4",
   "metadata": {},
   "outputs": [
    {
     "data": {
      "text/plain": [
       "358"
      ]
     },
     "execution_count": 117,
     "metadata": {},
     "output_type": "execute_result"
    }
   ],
   "source": [
    "len(df)"
   ]
  },
  {
   "cell_type": "code",
   "execution_count": 145,
   "id": "29b4236a",
   "metadata": {},
   "outputs": [],
   "source": [
    "def finalize(start, end):\n",
    "    \n",
    "    if not os.path.exists('txt_trans'):\n",
    "        os.makedirs('txt_trans')\n",
    "    \n",
    "    fail = []\n",
    "    for j in range(start, end):\n",
    "        wav = get_wav(j)\n",
    "        fail += wav[1]\n",
    "            \n",
    "        with open('txt_trans/'+'arc_'+df.source[j]+'_'+df.fn_name[j][:-4]+'_trans.txt', 'a+', encoding='utf-8') as f:     \n",
    "            for i in wav[0]:\n",
    "                f.write(i[0]+'\\n')\n",
    "                f.write(speech_to_txt(i[1])+'\\n')\n",
    "    with open('fail.txt', 'a+', encoding='utf-8') as f_new:\n",
    "        for l in fail:\n",
    "            f_new.write(l+'\\n')\n",
    "    \n",
    "    return None       "
   ]
  },
  {
   "cell_type": "code",
   "execution_count": 133,
   "id": "be7b0ce1",
   "metadata": {},
   "outputs": [
    {
     "name": "stdout",
     "output_type": "stream",
     "text": [
      "MoviePy - Writing audio in audio_file/bb_2420/bb_2420_part0.wav\n"
     ]
    },
    {
     "name": "stderr",
     "output_type": "stream",
     "text": [
      "                                                                                                         \r"
     ]
    },
    {
     "name": "stdout",
     "output_type": "stream",
     "text": [
      "MoviePy - Done.\n",
      "MoviePy - Writing audio in audio_file/bb_2420/bb_2420_part1.wav\n"
     ]
    },
    {
     "name": "stderr",
     "output_type": "stream",
     "text": [
      "                                                                                                         \r"
     ]
    },
    {
     "name": "stdout",
     "output_type": "stream",
     "text": [
      "MoviePy - Done.\n",
      "MoviePy - Writing audio in audio_file/bb_2420/bb_2420_part2.wav\n"
     ]
    },
    {
     "name": "stderr",
     "output_type": "stream",
     "text": [
      "                                                                                                         \r"
     ]
    },
    {
     "name": "stdout",
     "output_type": "stream",
     "text": [
      "MoviePy - Done.\n",
      "MoviePy - Writing audio in audio_file/bb_2420/bb_2420_part3.wav\n"
     ]
    },
    {
     "name": "stderr",
     "output_type": "stream",
     "text": [
      "                                                                                                         \r"
     ]
    },
    {
     "name": "stdout",
     "output_type": "stream",
     "text": [
      "MoviePy - Done.\n",
      "MoviePy - Writing audio in audio_file/bb_2420/bb_2420_part4.wav\n"
     ]
    },
    {
     "name": "stderr",
     "output_type": "stream",
     "text": [
      "                                                                                                         \r"
     ]
    },
    {
     "name": "stdout",
     "output_type": "stream",
     "text": [
      "MoviePy - Done.\n",
      "MoviePy - Writing audio in audio_file/bb_2420/bb_2420_part5.wav\n"
     ]
    },
    {
     "name": "stderr",
     "output_type": "stream",
     "text": [
      "                                                                                                         \r"
     ]
    },
    {
     "name": "stdout",
     "output_type": "stream",
     "text": [
      "MoviePy - Done.\n",
      "MoviePy - Writing audio in audio_file/bb_2420/bb_2420_part6.wav\n"
     ]
    },
    {
     "name": "stderr",
     "output_type": "stream",
     "text": [
      "                                                                                                         \r"
     ]
    },
    {
     "name": "stdout",
     "output_type": "stream",
     "text": [
      "MoviePy - Done.\n",
      "MoviePy - Writing audio in audio_file/bb_2420/bb_2420_part7.wav\n"
     ]
    },
    {
     "name": "stderr",
     "output_type": "stream",
     "text": [
      "                                                                                                         \r"
     ]
    },
    {
     "name": "stdout",
     "output_type": "stream",
     "text": [
      "MoviePy - Done.\n",
      "MoviePy - Writing audio in audio_file/bb_2420/bb_2420_part8.wav\n"
     ]
    },
    {
     "name": "stderr",
     "output_type": "stream",
     "text": [
      "                                                                                                         \r"
     ]
    },
    {
     "name": "stdout",
     "output_type": "stream",
     "text": [
      "MoviePy - Done.\n",
      "MoviePy - Writing audio in audio_file/cnbc_1892/cnbc_1892_part0.wav\n"
     ]
    },
    {
     "name": "stderr",
     "output_type": "stream",
     "text": [
      "                                                                                                         \r"
     ]
    },
    {
     "name": "stdout",
     "output_type": "stream",
     "text": [
      "MoviePy - Done.\n",
      "MoviePy - Writing audio in audio_file/cnbc_1892/cnbc_1892_part1.wav\n"
     ]
    },
    {
     "name": "stderr",
     "output_type": "stream",
     "text": [
      "                                                                                                         \r"
     ]
    },
    {
     "name": "stdout",
     "output_type": "stream",
     "text": [
      "MoviePy - Done.\n",
      "MoviePy - Writing audio in audio_file/cnbc_1892/cnbc_1892_part2.wav\n"
     ]
    },
    {
     "name": "stderr",
     "output_type": "stream",
     "text": [
      "                                                                                                         \r"
     ]
    },
    {
     "name": "stdout",
     "output_type": "stream",
     "text": [
      "MoviePy - Done.\n",
      "MoviePy - Writing audio in audio_file/cnbc_1892/cnbc_1892_part3.wav\n"
     ]
    },
    {
     "name": "stderr",
     "output_type": "stream",
     "text": [
      "                                                                                                         \r"
     ]
    },
    {
     "name": "stdout",
     "output_type": "stream",
     "text": [
      "MoviePy - Done.\n",
      "MoviePy - Writing audio in audio_file/cnbc_1892/cnbc_1892_part4.wav\n"
     ]
    },
    {
     "name": "stderr",
     "output_type": "stream",
     "text": [
      "                                                                                                         \r"
     ]
    },
    {
     "name": "stdout",
     "output_type": "stream",
     "text": [
      "MoviePy - Done.\n",
      "MoviePy - Writing audio in audio_file/cnbc_1892/cnbc_1892_part5.wav\n"
     ]
    },
    {
     "name": "stderr",
     "output_type": "stream",
     "text": [
      "                                                                                                         \r"
     ]
    },
    {
     "name": "stdout",
     "output_type": "stream",
     "text": [
      "MoviePy - Done.\n",
      "MoviePy - Writing audio in audio_file/cnbc_1886/cnbc_1886_part0.wav\n"
     ]
    },
    {
     "name": "stderr",
     "output_type": "stream",
     "text": [
      "                                                                                                         \r"
     ]
    },
    {
     "name": "stdout",
     "output_type": "stream",
     "text": [
      "MoviePy - Done.\n",
      "MoviePy - Writing audio in audio_file/cnbc_1886/cnbc_1886_part1.wav\n"
     ]
    },
    {
     "name": "stderr",
     "output_type": "stream",
     "text": [
      "                                                                                                         \r"
     ]
    },
    {
     "name": "stdout",
     "output_type": "stream",
     "text": [
      "MoviePy - Done.\n",
      "MoviePy - Writing audio in audio_file/cnbc_1886/cnbc_1886_part2.wav\n"
     ]
    },
    {
     "name": "stderr",
     "output_type": "stream",
     "text": [
      "                                                                                                         \r"
     ]
    },
    {
     "name": "stdout",
     "output_type": "stream",
     "text": [
      "MoviePy - Done.\n",
      "MoviePy - Writing audio in audio_file/cnbc_1886/cnbc_1886_part3.wav\n"
     ]
    },
    {
     "name": "stderr",
     "output_type": "stream",
     "text": [
      "                                                                                                         \r"
     ]
    },
    {
     "name": "stdout",
     "output_type": "stream",
     "text": [
      "MoviePy - Done.\n",
      "MoviePy - Writing audio in audio_file/cnbc_1886/cnbc_1886_part4.wav\n"
     ]
    },
    {
     "name": "stderr",
     "output_type": "stream",
     "text": [
      "                                                                                                         \r"
     ]
    },
    {
     "name": "stdout",
     "output_type": "stream",
     "text": [
      "MoviePy - Done.\n",
      "MoviePy - Writing audio in audio_file/cnbc_1886/cnbc_1886_part5.wav\n"
     ]
    },
    {
     "name": "stderr",
     "output_type": "stream",
     "text": [
      "                                                                                                         \r"
     ]
    },
    {
     "name": "stdout",
     "output_type": "stream",
     "text": [
      "MoviePy - Done.\n",
      "MoviePy - Writing audio in audio_file/cnbc_1883/cnbc_1883_part0.wav\n"
     ]
    },
    {
     "name": "stderr",
     "output_type": "stream",
     "text": [
      "                                                                                                         \r"
     ]
    },
    {
     "name": "stdout",
     "output_type": "stream",
     "text": [
      "MoviePy - Done.\n",
      "MoviePy - Writing audio in audio_file/cnbc_1883/cnbc_1883_part1.wav\n"
     ]
    },
    {
     "name": "stderr",
     "output_type": "stream",
     "text": [
      "                                                                                                         \r"
     ]
    },
    {
     "name": "stdout",
     "output_type": "stream",
     "text": [
      "MoviePy - Done.\n",
      "MoviePy - Writing audio in audio_file/cnbc_1883/cnbc_1883_part2.wav\n"
     ]
    },
    {
     "name": "stderr",
     "output_type": "stream",
     "text": [
      "                                                                                                         \r"
     ]
    },
    {
     "name": "stdout",
     "output_type": "stream",
     "text": [
      "MoviePy - Done.\n",
      "MoviePy - Writing audio in audio_file/cnbc_1883/cnbc_1883_part3.wav\n"
     ]
    },
    {
     "name": "stderr",
     "output_type": "stream",
     "text": [
      "                                                                                                         \r"
     ]
    },
    {
     "name": "stdout",
     "output_type": "stream",
     "text": [
      "MoviePy - Done.\n",
      "MoviePy - Writing audio in audio_file/cnbc_1883/cnbc_1883_part4.wav\n"
     ]
    },
    {
     "name": "stderr",
     "output_type": "stream",
     "text": [
      "                                                                                                         \r"
     ]
    },
    {
     "name": "stdout",
     "output_type": "stream",
     "text": [
      "MoviePy - Done.\n",
      "MoviePy - Writing audio in audio_file/cnbc_1874/cnbc_1874_part0.wav\n"
     ]
    },
    {
     "name": "stderr",
     "output_type": "stream",
     "text": [
      "                                                                                                         \r"
     ]
    },
    {
     "name": "stdout",
     "output_type": "stream",
     "text": [
      "MoviePy - Done.\n",
      "MoviePy - Writing audio in audio_file/cnbc_1874/cnbc_1874_part1.wav\n"
     ]
    },
    {
     "name": "stderr",
     "output_type": "stream",
     "text": [
      "                                                                                                         \r"
     ]
    },
    {
     "name": "stdout",
     "output_type": "stream",
     "text": [
      "MoviePy - Done.\n",
      "MoviePy - Writing audio in audio_file/cnbc_1874/cnbc_1874_part2.wav\n"
     ]
    },
    {
     "name": "stderr",
     "output_type": "stream",
     "text": [
      "                                                                                                         \r"
     ]
    },
    {
     "name": "stdout",
     "output_type": "stream",
     "text": [
      "MoviePy - Done.\n",
      "MoviePy - Writing audio in audio_file/cnbc_1874/cnbc_1874_part3.wav\n"
     ]
    },
    {
     "name": "stderr",
     "output_type": "stream",
     "text": [
      "                                                                                                         \r"
     ]
    },
    {
     "name": "stdout",
     "output_type": "stream",
     "text": [
      "MoviePy - Done.\n",
      "MoviePy - Writing audio in audio_file/cnbc_1874/cnbc_1874_part4.wav\n"
     ]
    },
    {
     "name": "stderr",
     "output_type": "stream",
     "text": [
      "                                                                                                         \r"
     ]
    },
    {
     "name": "stdout",
     "output_type": "stream",
     "text": [
      "MoviePy - Done.\n",
      "MoviePy - Writing audio in audio_file/cnbc_1874/cnbc_1874_part5.wav\n"
     ]
    },
    {
     "name": "stderr",
     "output_type": "stream",
     "text": [
      "                                                                                                         \r"
     ]
    },
    {
     "name": "stdout",
     "output_type": "stream",
     "text": [
      "MoviePy - Done.\n",
      "MoviePy - Writing audio in audio_file/cnbc_1874/cnbc_1874_part6.wav\n"
     ]
    },
    {
     "name": "stderr",
     "output_type": "stream",
     "text": [
      "                                                                                                         \r"
     ]
    },
    {
     "name": "stdout",
     "output_type": "stream",
     "text": [
      "MoviePy - Done.\n",
      "MoviePy - Writing audio in audio_file/cnbc_1874/cnbc_1874_part7.wav\n"
     ]
    },
    {
     "name": "stderr",
     "output_type": "stream",
     "text": [
      "                                                                                                         \r"
     ]
    },
    {
     "name": "stdout",
     "output_type": "stream",
     "text": [
      "MoviePy - Done.\n",
      "MoviePy - Writing audio in audio_file/cnbc_1866/cnbc_1866_part0.wav\n"
     ]
    },
    {
     "name": "stderr",
     "output_type": "stream",
     "text": [
      "                                                                                                         \r"
     ]
    },
    {
     "name": "stdout",
     "output_type": "stream",
     "text": [
      "MoviePy - Done.\n",
      "MoviePy - Writing audio in audio_file/cnbc_1866/cnbc_1866_part1.wav\n"
     ]
    },
    {
     "name": "stderr",
     "output_type": "stream",
     "text": [
      "                                                                                                         \r"
     ]
    },
    {
     "name": "stdout",
     "output_type": "stream",
     "text": [
      "MoviePy - Done.\n",
      "MoviePy - Writing audio in audio_file/cnbc_1857/cnbc_1857_part0.wav\n"
     ]
    },
    {
     "name": "stderr",
     "output_type": "stream",
     "text": [
      "                                                                                                         \r"
     ]
    },
    {
     "name": "stdout",
     "output_type": "stream",
     "text": [
      "MoviePy - Done.\n",
      "MoviePy - Writing audio in audio_file/cnbc_1853/cnbc_1853_part0.wav\n"
     ]
    },
    {
     "name": "stderr",
     "output_type": "stream",
     "text": [
      "                                                                                                         \r"
     ]
    },
    {
     "name": "stdout",
     "output_type": "stream",
     "text": [
      "MoviePy - Done.\n",
      "MoviePy - Writing audio in audio_file/cnbc_1853/cnbc_1853_part1.wav\n"
     ]
    },
    {
     "name": "stderr",
     "output_type": "stream",
     "text": [
      "                                                                                                         \r"
     ]
    },
    {
     "name": "stdout",
     "output_type": "stream",
     "text": [
      "MoviePy - Done.\n",
      "MoviePy - Writing audio in audio_file/cnbc_1850/cnbc_1850_part0.wav\n"
     ]
    },
    {
     "name": "stderr",
     "output_type": "stream",
     "text": [
      "                                                                                                         \r"
     ]
    },
    {
     "name": "stdout",
     "output_type": "stream",
     "text": [
      "MoviePy - Done.\n",
      "MoviePy - Writing audio in audio_file/cnbc_1850/cnbc_1850_part1.wav\n"
     ]
    },
    {
     "name": "stderr",
     "output_type": "stream",
     "text": [
      "                                                                                                         \r"
     ]
    },
    {
     "name": "stdout",
     "output_type": "stream",
     "text": [
      "MoviePy - Done.\n",
      "MoviePy - Writing audio in audio_file/cnbc_1850/cnbc_1850_part2.wav\n"
     ]
    },
    {
     "name": "stderr",
     "output_type": "stream",
     "text": [
      "                                                                                                         \r"
     ]
    },
    {
     "name": "stdout",
     "output_type": "stream",
     "text": [
      "MoviePy - Done.\n",
      "MoviePy - Writing audio in audio_file/cnbc_1850/cnbc_1850_part3.wav\n"
     ]
    },
    {
     "name": "stderr",
     "output_type": "stream",
     "text": [
      "                                                                                                         \r"
     ]
    },
    {
     "name": "stdout",
     "output_type": "stream",
     "text": [
      "MoviePy - Done.\n",
      "MoviePy - Writing audio in audio_file/cnbc_1850/cnbc_1850_part4.wav\n"
     ]
    },
    {
     "name": "stderr",
     "output_type": "stream",
     "text": [
      "                                                                                                         \r"
     ]
    },
    {
     "name": "stdout",
     "output_type": "stream",
     "text": [
      "MoviePy - Done.\n",
      "MoviePy - Writing audio in audio_file/cnbc_1850/cnbc_1850_part5.wav\n"
     ]
    },
    {
     "name": "stderr",
     "output_type": "stream",
     "text": [
      "                                                                                                         \r"
     ]
    },
    {
     "name": "stdout",
     "output_type": "stream",
     "text": [
      "MoviePy - Done.\n",
      "MoviePy - Writing audio in audio_file/cnbc_1847/cnbc_1847_part0.wav\n"
     ]
    },
    {
     "name": "stderr",
     "output_type": "stream",
     "text": [
      "                                                                                                         \r"
     ]
    },
    {
     "name": "stdout",
     "output_type": "stream",
     "text": [
      "MoviePy - Done.\n",
      "MoviePy - Writing audio in audio_file/cnbc_1847/cnbc_1847_part1.wav\n"
     ]
    },
    {
     "name": "stderr",
     "output_type": "stream",
     "text": [
      "                                                                                                         \r"
     ]
    },
    {
     "name": "stdout",
     "output_type": "stream",
     "text": [
      "MoviePy - Done.\n",
      "MoviePy - Writing audio in audio_file/cnbc_1847/cnbc_1847_part2.wav\n"
     ]
    },
    {
     "name": "stderr",
     "output_type": "stream",
     "text": [
      "                                                                                                         \r"
     ]
    },
    {
     "name": "stdout",
     "output_type": "stream",
     "text": [
      "MoviePy - Done.\n",
      "MoviePy - Writing audio in audio_file/cnbc_1847/cnbc_1847_part3.wav\n"
     ]
    },
    {
     "name": "stderr",
     "output_type": "stream",
     "text": [
      "                                                                                                         \r"
     ]
    },
    {
     "name": "stdout",
     "output_type": "stream",
     "text": [
      "MoviePy - Done.\n",
      "MoviePy - Writing audio in audio_file/cnbc_1847/cnbc_1847_part4.wav\n"
     ]
    },
    {
     "name": "stderr",
     "output_type": "stream",
     "text": [
      "                                                                                                         \r"
     ]
    },
    {
     "name": "stdout",
     "output_type": "stream",
     "text": [
      "MoviePy - Done.\n",
      "MoviePy - Writing audio in audio_file/cnbc_1826/cnbc_1826_part0.wav\n"
     ]
    },
    {
     "name": "stderr",
     "output_type": "stream",
     "text": [
      "                                                                                                         \r"
     ]
    },
    {
     "name": "stdout",
     "output_type": "stream",
     "text": [
      "MoviePy - Done.\n",
      "MoviePy - Writing audio in audio_file/cnbc_1826/cnbc_1826_part1.wav\n"
     ]
    },
    {
     "name": "stderr",
     "output_type": "stream",
     "text": [
      "                                                                                                         \r"
     ]
    },
    {
     "name": "stdout",
     "output_type": "stream",
     "text": [
      "MoviePy - Done.\n",
      "MoviePy - Writing audio in audio_file/cnbc_1826/cnbc_1826_part2.wav\n"
     ]
    },
    {
     "name": "stderr",
     "output_type": "stream",
     "text": [
      "                                                                                                         \r"
     ]
    },
    {
     "name": "stdout",
     "output_type": "stream",
     "text": [
      "MoviePy - Done.\n",
      "MoviePy - Writing audio in audio_file/cnbc_1826/cnbc_1826_part3.wav\n"
     ]
    },
    {
     "name": "stderr",
     "output_type": "stream",
     "text": [
      "                                                                                                         \r"
     ]
    },
    {
     "name": "stdout",
     "output_type": "stream",
     "text": [
      "MoviePy - Done.\n",
      "MoviePy - Writing audio in audio_file/cnbc_1826/cnbc_1826_part4.wav\n"
     ]
    },
    {
     "name": "stderr",
     "output_type": "stream",
     "text": [
      "                                                                                                         \r"
     ]
    },
    {
     "name": "stdout",
     "output_type": "stream",
     "text": [
      "MoviePy - Done.\n",
      "MoviePy - Writing audio in audio_file/cnbc_1826/cnbc_1826_part5.wav\n"
     ]
    },
    {
     "name": "stderr",
     "output_type": "stream",
     "text": [
      "                                                                                                         \r"
     ]
    },
    {
     "name": "stdout",
     "output_type": "stream",
     "text": [
      "MoviePy - Done.\n",
      "MoviePy - Writing audio in audio_file/cnbc_1826/cnbc_1826_part6.wav\n"
     ]
    },
    {
     "name": "stderr",
     "output_type": "stream",
     "text": [
      "                                                                                                         \r"
     ]
    },
    {
     "name": "stdout",
     "output_type": "stream",
     "text": [
      "MoviePy - Done.\n",
      "MoviePy - Writing audio in audio_file/cnbc_1826/cnbc_1826_part7.wav\n"
     ]
    },
    {
     "name": "stderr",
     "output_type": "stream",
     "text": [
      "                                                                                                         \r"
     ]
    },
    {
     "name": "stdout",
     "output_type": "stream",
     "text": [
      "MoviePy - Done.\n",
      "MoviePy - Writing audio in audio_file/cnbc_1826/cnbc_1826_part8.wav\n"
     ]
    },
    {
     "name": "stderr",
     "output_type": "stream",
     "text": [
      "                                                                                                         \r"
     ]
    },
    {
     "name": "stdout",
     "output_type": "stream",
     "text": [
      "MoviePy - Done.\n",
      "MoviePy - Writing audio in audio_file/cnbc_1808/cnbc_1808_part0.wav\n"
     ]
    },
    {
     "name": "stderr",
     "output_type": "stream",
     "text": [
      "                                                                                                         \r"
     ]
    },
    {
     "name": "stdout",
     "output_type": "stream",
     "text": [
      "MoviePy - Done.\n",
      "MoviePy - Writing audio in audio_file/cnbc_1808/cnbc_1808_part1.wav\n"
     ]
    },
    {
     "name": "stderr",
     "output_type": "stream",
     "text": [
      "                                                                                                         \r"
     ]
    },
    {
     "name": "stdout",
     "output_type": "stream",
     "text": [
      "MoviePy - Done.\n",
      "MoviePy - Writing audio in audio_file/cnbc_1808/cnbc_1808_part2.wav\n"
     ]
    },
    {
     "name": "stderr",
     "output_type": "stream",
     "text": [
      "                                                                                                         \r"
     ]
    },
    {
     "name": "stdout",
     "output_type": "stream",
     "text": [
      "MoviePy - Done.\n",
      "MoviePy - Writing audio in audio_file/cnbc_1808/cnbc_1808_part3.wav\n"
     ]
    },
    {
     "name": "stderr",
     "output_type": "stream",
     "text": [
      "                                                                                                         \r"
     ]
    },
    {
     "name": "stdout",
     "output_type": "stream",
     "text": [
      "MoviePy - Done.\n",
      "MoviePy - Writing audio in audio_file/cnbc_1808/cnbc_1808_part4.wav\n"
     ]
    },
    {
     "name": "stderr",
     "output_type": "stream",
     "text": [
      "                                                                                                         \r"
     ]
    },
    {
     "name": "stdout",
     "output_type": "stream",
     "text": [
      "MoviePy - Done.\n",
      "MoviePy - Writing audio in audio_file/cnbc_1808/cnbc_1808_part5.wav\n"
     ]
    },
    {
     "name": "stderr",
     "output_type": "stream",
     "text": [
      "                                                                                                         \r"
     ]
    },
    {
     "name": "stdout",
     "output_type": "stream",
     "text": [
      "MoviePy - Done.\n",
      "MoviePy - Writing audio in audio_file/cnbc_1782/cnbc_1782_part0.wav\n"
     ]
    },
    {
     "name": "stderr",
     "output_type": "stream",
     "text": [
      "                                                                                                         \r"
     ]
    },
    {
     "name": "stdout",
     "output_type": "stream",
     "text": [
      "MoviePy - Done.\n",
      "MoviePy - Writing audio in audio_file/cnbc_1775/cnbc_1775_part0.wav\n"
     ]
    },
    {
     "name": "stderr",
     "output_type": "stream",
     "text": [
      "                                                                                                         \r"
     ]
    },
    {
     "name": "stdout",
     "output_type": "stream",
     "text": [
      "MoviePy - Done.\n",
      "MoviePy - Writing audio in audio_file/cnbc_1775/cnbc_1775_part1.wav\n"
     ]
    },
    {
     "name": "stderr",
     "output_type": "stream",
     "text": [
      "                                                                                                         \r"
     ]
    },
    {
     "name": "stdout",
     "output_type": "stream",
     "text": [
      "MoviePy - Done.\n",
      "MoviePy - Writing audio in audio_file/cnbc_1775/cnbc_1775_part2.wav\n"
     ]
    },
    {
     "name": "stderr",
     "output_type": "stream",
     "text": [
      "                                                                                                         \r"
     ]
    },
    {
     "name": "stdout",
     "output_type": "stream",
     "text": [
      "MoviePy - Done.\n",
      "MoviePy - Writing audio in audio_file/cnbc_1775/cnbc_1775_part3.wav\n"
     ]
    },
    {
     "name": "stderr",
     "output_type": "stream",
     "text": [
      "                                                                                                         \r"
     ]
    },
    {
     "name": "stdout",
     "output_type": "stream",
     "text": [
      "MoviePy - Done.\n",
      "MoviePy - Writing audio in audio_file/cnbc_1775/cnbc_1775_part4.wav\n"
     ]
    },
    {
     "name": "stderr",
     "output_type": "stream",
     "text": [
      "                                                                                                         \r"
     ]
    },
    {
     "name": "stdout",
     "output_type": "stream",
     "text": [
      "MoviePy - Done.\n",
      "MoviePy - Writing audio in audio_file/cnbc_1775/cnbc_1775_part5.wav\n"
     ]
    },
    {
     "name": "stderr",
     "output_type": "stream",
     "text": [
      "                                                                                                         \r"
     ]
    },
    {
     "name": "stdout",
     "output_type": "stream",
     "text": [
      "MoviePy - Done.\n",
      "MoviePy - Writing audio in audio_file/cnbc_1775/cnbc_1775_part6.wav\n"
     ]
    },
    {
     "name": "stderr",
     "output_type": "stream",
     "text": [
      "                                                                                                         \r"
     ]
    },
    {
     "name": "stdout",
     "output_type": "stream",
     "text": [
      "MoviePy - Done.\n",
      "MoviePy - Writing audio in audio_file/cnbc_1775/cnbc_1775_part7.wav\n"
     ]
    },
    {
     "name": "stderr",
     "output_type": "stream",
     "text": [
      "                                                                                                         \r"
     ]
    },
    {
     "name": "stdout",
     "output_type": "stream",
     "text": [
      "MoviePy - Done.\n",
      "MoviePy - Writing audio in audio_file/cnbc_1775/cnbc_1775_part8.wav\n"
     ]
    },
    {
     "name": "stderr",
     "output_type": "stream",
     "text": [
      "                                                                                                         \r"
     ]
    },
    {
     "name": "stdout",
     "output_type": "stream",
     "text": [
      "MoviePy - Done.\n",
      "MoviePy - Writing audio in audio_file/cnbc_1775/cnbc_1775_part9.wav\n"
     ]
    },
    {
     "name": "stderr",
     "output_type": "stream",
     "text": [
      "                                                                                                         \r"
     ]
    },
    {
     "name": "stdout",
     "output_type": "stream",
     "text": [
      "MoviePy - Done.\n",
      "MoviePy - Writing audio in audio_file/cnbc_1775/cnbc_1775_part10.wav\n"
     ]
    },
    {
     "name": "stderr",
     "output_type": "stream",
     "text": [
      "                                                                                                         \r"
     ]
    },
    {
     "name": "stdout",
     "output_type": "stream",
     "text": [
      "MoviePy - Done.\n",
      "MoviePy - Writing audio in audio_file/cnbc_1775/cnbc_1775_part11.wav\n"
     ]
    },
    {
     "name": "stderr",
     "output_type": "stream",
     "text": [
      "                                                                                                         \r"
     ]
    },
    {
     "name": "stdout",
     "output_type": "stream",
     "text": [
      "MoviePy - Done.\n",
      "MoviePy - Writing audio in audio_file/cnbc_1775/cnbc_1775_part12.wav\n"
     ]
    },
    {
     "name": "stderr",
     "output_type": "stream",
     "text": [
      "                                                                                                         \r"
     ]
    },
    {
     "name": "stdout",
     "output_type": "stream",
     "text": [
      "MoviePy - Done.\n",
      "MoviePy - Writing audio in audio_file/cnbc_1775/cnbc_1775_part13.wav\n"
     ]
    },
    {
     "name": "stderr",
     "output_type": "stream",
     "text": [
      "                                                                                                         \r"
     ]
    },
    {
     "name": "stdout",
     "output_type": "stream",
     "text": [
      "MoviePy - Done.\n",
      "MoviePy - Writing audio in audio_file/cnbc_1775/cnbc_1775_part14.wav\n"
     ]
    },
    {
     "name": "stderr",
     "output_type": "stream",
     "text": [
      "                                                                                                         \r"
     ]
    },
    {
     "name": "stdout",
     "output_type": "stream",
     "text": [
      "MoviePy - Done.\n",
      "MoviePy - Writing audio in audio_file/cnbc_1775/cnbc_1775_part15.wav\n"
     ]
    },
    {
     "name": "stderr",
     "output_type": "stream",
     "text": [
      "                                                                                                         \r"
     ]
    },
    {
     "name": "stdout",
     "output_type": "stream",
     "text": [
      "MoviePy - Done.\n",
      "MoviePy - Writing audio in audio_file/cnbc_1775/cnbc_1775_part16.wav\n"
     ]
    },
    {
     "name": "stderr",
     "output_type": "stream",
     "text": [
      "                                                                                                         \r"
     ]
    },
    {
     "name": "stdout",
     "output_type": "stream",
     "text": [
      "MoviePy - Done.\n",
      "MoviePy - Writing audio in audio_file/cnbc_1768/cnbc_1768_part0.wav\n"
     ]
    },
    {
     "name": "stderr",
     "output_type": "stream",
     "text": [
      "                                                                                                         \r"
     ]
    },
    {
     "name": "stdout",
     "output_type": "stream",
     "text": [
      "MoviePy - Done.\n",
      "MoviePy - Writing audio in audio_file/cnbc_1768/cnbc_1768_part1.wav\n"
     ]
    },
    {
     "name": "stderr",
     "output_type": "stream",
     "text": [
      "                                                                                                         \r"
     ]
    },
    {
     "name": "stdout",
     "output_type": "stream",
     "text": [
      "MoviePy - Done.\n",
      "MoviePy - Writing audio in audio_file/cnbc_1768/cnbc_1768_part2.wav\n"
     ]
    },
    {
     "name": "stderr",
     "output_type": "stream",
     "text": [
      "                                                                                                         \r"
     ]
    },
    {
     "name": "stdout",
     "output_type": "stream",
     "text": [
      "MoviePy - Done.\n",
      "MoviePy - Writing audio in audio_file/cnbc_1768/cnbc_1768_part3.wav\n"
     ]
    },
    {
     "name": "stderr",
     "output_type": "stream",
     "text": [
      "                                                                                                         \r"
     ]
    },
    {
     "name": "stdout",
     "output_type": "stream",
     "text": [
      "MoviePy - Done.\n",
      "MoviePy - Writing audio in audio_file/cnbc_1771/cnbc_1771_part0.wav\n"
     ]
    },
    {
     "name": "stderr",
     "output_type": "stream",
     "text": [
      "                                                                                                         \r"
     ]
    },
    {
     "name": "stdout",
     "output_type": "stream",
     "text": [
      "MoviePy - Done.\n",
      "MoviePy - Writing audio in audio_file/cnbc_1771/cnbc_1771_part1.wav\n"
     ]
    },
    {
     "name": "stderr",
     "output_type": "stream",
     "text": [
      "                                                                                                         \r"
     ]
    },
    {
     "name": "stdout",
     "output_type": "stream",
     "text": [
      "MoviePy - Done.\n",
      "MoviePy - Writing audio in audio_file/cnbc_1771/cnbc_1771_part2.wav\n"
     ]
    },
    {
     "name": "stderr",
     "output_type": "stream",
     "text": [
      "                                                                                                         \r"
     ]
    },
    {
     "name": "stdout",
     "output_type": "stream",
     "text": [
      "MoviePy - Done.\n",
      "MoviePy - Writing audio in audio_file/cnbc_1771/cnbc_1771_part3.wav\n"
     ]
    },
    {
     "name": "stderr",
     "output_type": "stream",
     "text": [
      "                                                                                                         \r"
     ]
    },
    {
     "name": "stdout",
     "output_type": "stream",
     "text": [
      "MoviePy - Done.\n",
      "MoviePy - Writing audio in audio_file/cnbc_1771/cnbc_1771_part4.wav\n"
     ]
    },
    {
     "name": "stderr",
     "output_type": "stream",
     "text": [
      "                                                                                                         \r"
     ]
    },
    {
     "name": "stdout",
     "output_type": "stream",
     "text": [
      "MoviePy - Done.\n",
      "MoviePy - Writing audio in audio_file/cnbc_1771/cnbc_1771_part5.wav\n"
     ]
    },
    {
     "name": "stderr",
     "output_type": "stream",
     "text": [
      "                                                                                                         \r"
     ]
    },
    {
     "name": "stdout",
     "output_type": "stream",
     "text": [
      "MoviePy - Done.\n",
      "MoviePy - Writing audio in audio_file/cnbc_1771/cnbc_1771_part6.wav\n"
     ]
    },
    {
     "name": "stderr",
     "output_type": "stream",
     "text": [
      "                                                                                                         \r"
     ]
    },
    {
     "name": "stdout",
     "output_type": "stream",
     "text": [
      "MoviePy - Done.\n",
      "MoviePy - Writing audio in audio_file/cnbc_1771/cnbc_1771_part7.wav\n"
     ]
    },
    {
     "name": "stderr",
     "output_type": "stream",
     "text": [
      "                                                                                                         \r"
     ]
    },
    {
     "name": "stdout",
     "output_type": "stream",
     "text": [
      "MoviePy - Done.\n",
      "MoviePy - Writing audio in audio_file/cnbc_1762/cnbc_1762_part0.wav\n"
     ]
    },
    {
     "name": "stderr",
     "output_type": "stream",
     "text": [
      "                                                                                                         \r"
     ]
    },
    {
     "name": "stdout",
     "output_type": "stream",
     "text": [
      "MoviePy - Done.\n",
      "MoviePy - Writing audio in audio_file/cnbc_1752/cnbc_1752_part0.wav\n"
     ]
    },
    {
     "name": "stderr",
     "output_type": "stream",
     "text": [
      "                                                                                                         \r"
     ]
    },
    {
     "name": "stdout",
     "output_type": "stream",
     "text": [
      "MoviePy - Done.\n",
      "MoviePy - Writing audio in audio_file/cnbc_1752/cnbc_1752_part1.wav\n"
     ]
    },
    {
     "name": "stderr",
     "output_type": "stream",
     "text": [
      "                                                                                                         \r"
     ]
    },
    {
     "name": "stdout",
     "output_type": "stream",
     "text": [
      "MoviePy - Done.\n",
      "MoviePy - Writing audio in audio_file/cnbc_1752/cnbc_1752_part2.wav\n"
     ]
    },
    {
     "name": "stderr",
     "output_type": "stream",
     "text": [
      "                                                                                                         \r"
     ]
    },
    {
     "name": "stdout",
     "output_type": "stream",
     "text": [
      "MoviePy - Done.\n",
      "MoviePy - Writing audio in audio_file/cnbc_1752/cnbc_1752_part3.wav\n"
     ]
    },
    {
     "name": "stderr",
     "output_type": "stream",
     "text": [
      "                                                                                                         \r"
     ]
    },
    {
     "name": "stdout",
     "output_type": "stream",
     "text": [
      "MoviePy - Done.\n",
      "MoviePy - Writing audio in audio_file/cnbc_1752/cnbc_1752_part4.wav\n"
     ]
    },
    {
     "name": "stderr",
     "output_type": "stream",
     "text": [
      "                                                                                                         \r"
     ]
    },
    {
     "name": "stdout",
     "output_type": "stream",
     "text": [
      "MoviePy - Done.\n",
      "MoviePy - Writing audio in audio_file/cnbc_1752/cnbc_1752_part5.wav\n"
     ]
    },
    {
     "name": "stderr",
     "output_type": "stream",
     "text": [
      "                                                                                                         \r"
     ]
    },
    {
     "name": "stdout",
     "output_type": "stream",
     "text": [
      "MoviePy - Done.\n",
      "MoviePy - Writing audio in audio_file/cnbc_1752/cnbc_1752_part6.wav\n"
     ]
    },
    {
     "name": "stderr",
     "output_type": "stream",
     "text": [
      "                                                                                                         \r"
     ]
    },
    {
     "name": "stdout",
     "output_type": "stream",
     "text": [
      "MoviePy - Done.\n",
      "MoviePy - Writing audio in audio_file/cnbc_1752/cnbc_1752_part7.wav\n"
     ]
    },
    {
     "name": "stderr",
     "output_type": "stream",
     "text": [
      "                                                                                                         \r"
     ]
    },
    {
     "name": "stdout",
     "output_type": "stream",
     "text": [
      "MoviePy - Done.\n",
      "MoviePy - Writing audio in audio_file/cnbc_1751/cnbc_1751_part0.wav\n"
     ]
    },
    {
     "name": "stderr",
     "output_type": "stream",
     "text": [
      "                                                                                                         \r"
     ]
    },
    {
     "name": "stdout",
     "output_type": "stream",
     "text": [
      "MoviePy - Done.\n",
      "MoviePy - Writing audio in audio_file/cnbc_1751/cnbc_1751_part1.wav\n"
     ]
    },
    {
     "name": "stderr",
     "output_type": "stream",
     "text": [
      "                                                                                                         \r"
     ]
    },
    {
     "name": "stdout",
     "output_type": "stream",
     "text": [
      "MoviePy - Done.\n",
      "MoviePy - Writing audio in audio_file/cnbc_1751/cnbc_1751_part2.wav\n"
     ]
    },
    {
     "name": "stderr",
     "output_type": "stream",
     "text": [
      "                                                                                                         \r"
     ]
    },
    {
     "name": "stdout",
     "output_type": "stream",
     "text": [
      "MoviePy - Done.\n",
      "MoviePy - Writing audio in audio_file/cnbc_1751/cnbc_1751_part3.wav\n"
     ]
    },
    {
     "name": "stderr",
     "output_type": "stream",
     "text": [
      "                                                                                                         \r"
     ]
    },
    {
     "name": "stdout",
     "output_type": "stream",
     "text": [
      "MoviePy - Done.\n",
      "MoviePy - Writing audio in audio_file/cnbc_1751/cnbc_1751_part4.wav\n"
     ]
    },
    {
     "name": "stderr",
     "output_type": "stream",
     "text": [
      "                                                                                                         \r"
     ]
    },
    {
     "name": "stdout",
     "output_type": "stream",
     "text": [
      "MoviePy - Done.\n",
      "MoviePy - Writing audio in audio_file/cnbc_1751/cnbc_1751_part5.wav\n"
     ]
    },
    {
     "name": "stderr",
     "output_type": "stream",
     "text": [
      "                                                                                                         \r"
     ]
    },
    {
     "name": "stdout",
     "output_type": "stream",
     "text": [
      "MoviePy - Done.\n",
      "MoviePy - Writing audio in audio_file/cnbc_1751/cnbc_1751_part6.wav\n"
     ]
    },
    {
     "name": "stderr",
     "output_type": "stream",
     "text": [
      "                                                                                                         \r"
     ]
    },
    {
     "name": "stdout",
     "output_type": "stream",
     "text": [
      "MoviePy - Done.\n",
      "MoviePy - Writing audio in audio_file/cnbc_1751/cnbc_1751_part7.wav\n"
     ]
    },
    {
     "name": "stderr",
     "output_type": "stream",
     "text": [
      "                                                                                                         \r"
     ]
    },
    {
     "name": "stdout",
     "output_type": "stream",
     "text": [
      "MoviePy - Done.\n",
      "MoviePy - Writing audio in audio_file/cnbc_1751/cnbc_1751_part8.wav\n"
     ]
    },
    {
     "name": "stderr",
     "output_type": "stream",
     "text": [
      "                                                                                                         \r"
     ]
    },
    {
     "name": "stdout",
     "output_type": "stream",
     "text": [
      "MoviePy - Done.\n",
      "MoviePy - Writing audio in audio_file/cnbc_1751/cnbc_1751_part9.wav\n"
     ]
    },
    {
     "name": "stderr",
     "output_type": "stream",
     "text": [
      "                                                                                                         \r"
     ]
    },
    {
     "name": "stdout",
     "output_type": "stream",
     "text": [
      "MoviePy - Done.\n",
      "MoviePy - Writing audio in audio_file/cnbc_1751/cnbc_1751_part10.wav\n"
     ]
    },
    {
     "name": "stderr",
     "output_type": "stream",
     "text": [
      "                                                                                                         \r"
     ]
    },
    {
     "name": "stdout",
     "output_type": "stream",
     "text": [
      "MoviePy - Done.\n",
      "MoviePy - Writing audio in audio_file/cnbc_1740/cnbc_1740_part0.wav\n"
     ]
    },
    {
     "name": "stderr",
     "output_type": "stream",
     "text": [
      "                                                                                                         \r"
     ]
    },
    {
     "name": "stdout",
     "output_type": "stream",
     "text": [
      "MoviePy - Done.\n",
      "MoviePy - Writing audio in audio_file/cnbc_1740/cnbc_1740_part1.wav\n"
     ]
    },
    {
     "name": "stderr",
     "output_type": "stream",
     "text": [
      "                                                                                                         \r"
     ]
    },
    {
     "name": "stdout",
     "output_type": "stream",
     "text": [
      "MoviePy - Done.\n",
      "MoviePy - Writing audio in audio_file/cnbc_1740/cnbc_1740_part2.wav\n"
     ]
    },
    {
     "name": "stderr",
     "output_type": "stream",
     "text": [
      "                                                                                                         \r"
     ]
    },
    {
     "name": "stdout",
     "output_type": "stream",
     "text": [
      "MoviePy - Done.\n",
      "MoviePy - Writing audio in audio_file/cnbc_1740/cnbc_1740_part3.wav\n"
     ]
    },
    {
     "name": "stderr",
     "output_type": "stream",
     "text": [
      "                                                                                                         \r"
     ]
    },
    {
     "name": "stdout",
     "output_type": "stream",
     "text": [
      "MoviePy - Done.\n",
      "MoviePy - Writing audio in audio_file/cnbc_1740/cnbc_1740_part4.wav\n"
     ]
    },
    {
     "name": "stderr",
     "output_type": "stream",
     "text": [
      "                                                                                                         \r"
     ]
    },
    {
     "name": "stdout",
     "output_type": "stream",
     "text": [
      "MoviePy - Done.\n",
      "MoviePy - Writing audio in audio_file/cnbc_1740/cnbc_1740_part5.wav\n"
     ]
    },
    {
     "name": "stderr",
     "output_type": "stream",
     "text": [
      "                                                                                                         \r"
     ]
    },
    {
     "name": "stdout",
     "output_type": "stream",
     "text": [
      "MoviePy - Done.\n",
      "MoviePy - Writing audio in audio_file/cnbc_1740/cnbc_1740_part6.wav\n"
     ]
    },
    {
     "name": "stderr",
     "output_type": "stream",
     "text": [
      "                                                                                                         \r"
     ]
    },
    {
     "name": "stdout",
     "output_type": "stream",
     "text": [
      "MoviePy - Done.\n",
      "MoviePy - Writing audio in audio_file/cnbc_1737/cnbc_1737_part0.wav\n"
     ]
    },
    {
     "name": "stderr",
     "output_type": "stream",
     "text": [
      "                                                                                                         \r"
     ]
    },
    {
     "name": "stdout",
     "output_type": "stream",
     "text": [
      "MoviePy - Done.\n",
      "MoviePy - Writing audio in audio_file/cnbc_1737/cnbc_1737_part1.wav\n"
     ]
    },
    {
     "name": "stderr",
     "output_type": "stream",
     "text": [
      "                                                                                                         \r"
     ]
    },
    {
     "name": "stdout",
     "output_type": "stream",
     "text": [
      "MoviePy - Done.\n",
      "MoviePy - Writing audio in audio_file/cnbc_1737/cnbc_1737_part2.wav\n"
     ]
    },
    {
     "name": "stderr",
     "output_type": "stream",
     "text": [
      "                                                                                                         \r"
     ]
    },
    {
     "name": "stdout",
     "output_type": "stream",
     "text": [
      "MoviePy - Done.\n",
      "MoviePy - Writing audio in audio_file/cnbc_1737/cnbc_1737_part3.wav\n"
     ]
    },
    {
     "name": "stderr",
     "output_type": "stream",
     "text": [
      "                                                                                                         \r"
     ]
    },
    {
     "name": "stdout",
     "output_type": "stream",
     "text": [
      "MoviePy - Done.\n",
      "MoviePy - Writing audio in audio_file/cnbc_1737/cnbc_1737_part4.wav\n"
     ]
    },
    {
     "name": "stderr",
     "output_type": "stream",
     "text": [
      "                                                                                                         \r"
     ]
    },
    {
     "name": "stdout",
     "output_type": "stream",
     "text": [
      "MoviePy - Done.\n",
      "MoviePy - Writing audio in audio_file/cnbc_1737/cnbc_1737_part5.wav\n"
     ]
    },
    {
     "name": "stderr",
     "output_type": "stream",
     "text": [
      "                                                                                                         \r"
     ]
    },
    {
     "name": "stdout",
     "output_type": "stream",
     "text": [
      "MoviePy - Done.\n",
      "MoviePy - Writing audio in audio_file/cnbc_1737/cnbc_1737_part6.wav\n"
     ]
    },
    {
     "name": "stderr",
     "output_type": "stream",
     "text": [
      "                                                                                                         \r"
     ]
    },
    {
     "name": "stdout",
     "output_type": "stream",
     "text": [
      "MoviePy - Done.\n",
      "MoviePy - Writing audio in audio_file/cnbc_1737/cnbc_1737_part7.wav\n"
     ]
    },
    {
     "name": "stderr",
     "output_type": "stream",
     "text": [
      "                                                                                                         \r"
     ]
    },
    {
     "name": "stdout",
     "output_type": "stream",
     "text": [
      "MoviePy - Done.\n",
      "MoviePy - Writing audio in audio_file/cnbc_1725/cnbc_1725_part0.wav\n"
     ]
    },
    {
     "name": "stderr",
     "output_type": "stream",
     "text": [
      "                                                                                                         \r"
     ]
    },
    {
     "name": "stdout",
     "output_type": "stream",
     "text": [
      "MoviePy - Done.\n",
      "MoviePy - Writing audio in audio_file/cnbc_1725/cnbc_1725_part1.wav\n"
     ]
    },
    {
     "name": "stderr",
     "output_type": "stream",
     "text": [
      "                                                                                                         \r"
     ]
    },
    {
     "name": "stdout",
     "output_type": "stream",
     "text": [
      "MoviePy - Done.\n",
      "MoviePy - Writing audio in audio_file/cnbc_1725/cnbc_1725_part2.wav\n"
     ]
    },
    {
     "name": "stderr",
     "output_type": "stream",
     "text": [
      "                                                                                                         \r"
     ]
    },
    {
     "name": "stdout",
     "output_type": "stream",
     "text": [
      "MoviePy - Done.\n",
      "MoviePy - Writing audio in audio_file/cnbc_1725/cnbc_1725_part3.wav\n"
     ]
    },
    {
     "name": "stderr",
     "output_type": "stream",
     "text": [
      "                                                                                                         \r"
     ]
    },
    {
     "name": "stdout",
     "output_type": "stream",
     "text": [
      "MoviePy - Done.\n",
      "MoviePy - Writing audio in audio_file/cnbc_1725/cnbc_1725_part4.wav\n"
     ]
    },
    {
     "name": "stderr",
     "output_type": "stream",
     "text": [
      "                                                                                                         \r"
     ]
    },
    {
     "name": "stdout",
     "output_type": "stream",
     "text": [
      "MoviePy - Done.\n",
      "MoviePy - Writing audio in audio_file/cnbc_1725/cnbc_1725_part5.wav\n"
     ]
    },
    {
     "name": "stderr",
     "output_type": "stream",
     "text": [
      "                                                                                                         \r"
     ]
    },
    {
     "name": "stdout",
     "output_type": "stream",
     "text": [
      "MoviePy - Done.\n",
      "MoviePy - Writing audio in audio_file/cnbc_1725/cnbc_1725_part6.wav\n"
     ]
    },
    {
     "name": "stderr",
     "output_type": "stream",
     "text": [
      "                                                                                                         \r"
     ]
    },
    {
     "name": "stdout",
     "output_type": "stream",
     "text": [
      "MoviePy - Done.\n",
      "MoviePy - Writing audio in audio_file/cnbc_1725/cnbc_1725_part7.wav\n"
     ]
    },
    {
     "name": "stderr",
     "output_type": "stream",
     "text": [
      "                                                                                                         \r"
     ]
    },
    {
     "name": "stdout",
     "output_type": "stream",
     "text": [
      "MoviePy - Done.\n",
      "MoviePy - Writing audio in audio_file/cnbc_1724/cnbc_1724_part0.wav\n"
     ]
    },
    {
     "name": "stderr",
     "output_type": "stream",
     "text": [
      "                                                                                                         \r"
     ]
    },
    {
     "name": "stdout",
     "output_type": "stream",
     "text": [
      "MoviePy - Done.\n",
      "MoviePy - Writing audio in audio_file/cnbc_1724/cnbc_1724_part1.wav\n"
     ]
    },
    {
     "name": "stderr",
     "output_type": "stream",
     "text": [
      "                                                                                                         \r"
     ]
    },
    {
     "name": "stdout",
     "output_type": "stream",
     "text": [
      "MoviePy - Done.\n",
      "MoviePy - Writing audio in audio_file/cnbc_1724/cnbc_1724_part2.wav\n"
     ]
    },
    {
     "name": "stderr",
     "output_type": "stream",
     "text": [
      "                                                                                                         \r"
     ]
    },
    {
     "name": "stdout",
     "output_type": "stream",
     "text": [
      "MoviePy - Done.\n",
      "MoviePy - Writing audio in audio_file/cnbc_1724/cnbc_1724_part3.wav\n"
     ]
    },
    {
     "name": "stderr",
     "output_type": "stream",
     "text": [
      "                                                                                                         \r"
     ]
    },
    {
     "name": "stdout",
     "output_type": "stream",
     "text": [
      "MoviePy - Done.\n",
      "MoviePy - Writing audio in audio_file/cnbc_1724/cnbc_1724_part4.wav\n"
     ]
    },
    {
     "name": "stderr",
     "output_type": "stream",
     "text": [
      "                                                                                                         \r"
     ]
    },
    {
     "name": "stdout",
     "output_type": "stream",
     "text": [
      "MoviePy - Done.\n",
      "MoviePy - Writing audio in audio_file/cnbc_1724/cnbc_1724_part5.wav\n"
     ]
    },
    {
     "name": "stderr",
     "output_type": "stream",
     "text": [
      "                                                                                                         \r"
     ]
    },
    {
     "name": "stdout",
     "output_type": "stream",
     "text": [
      "MoviePy - Done.\n",
      "MoviePy - Writing audio in audio_file/cnbc_1724/cnbc_1724_part6.wav\n"
     ]
    },
    {
     "name": "stderr",
     "output_type": "stream",
     "text": [
      "                                                                                                         \r"
     ]
    },
    {
     "name": "stdout",
     "output_type": "stream",
     "text": [
      "MoviePy - Done.\n",
      "MoviePy - Writing audio in audio_file/cnbc_1724/cnbc_1724_part7.wav\n"
     ]
    },
    {
     "name": "stderr",
     "output_type": "stream",
     "text": [
      "                                                                                                         \r"
     ]
    },
    {
     "name": "stdout",
     "output_type": "stream",
     "text": [
      "MoviePy - Done.\n",
      "MoviePy - Writing audio in audio_file/cnbc_1724/cnbc_1724_part8.wav\n"
     ]
    },
    {
     "name": "stderr",
     "output_type": "stream",
     "text": [
      "                                                                                                         \r"
     ]
    },
    {
     "name": "stdout",
     "output_type": "stream",
     "text": [
      "MoviePy - Done.\n",
      "MoviePy - Writing audio in audio_file/cnbc_1724/cnbc_1724_part9.wav\n"
     ]
    },
    {
     "name": "stderr",
     "output_type": "stream",
     "text": [
      "                                                                                                         \r"
     ]
    },
    {
     "name": "stdout",
     "output_type": "stream",
     "text": [
      "MoviePy - Done.\n",
      "MoviePy - Writing audio in audio_file/cnbc_1730/cnbc_1730_part0.wav\n"
     ]
    },
    {
     "name": "stderr",
     "output_type": "stream",
     "text": [
      "                                                                                                         \r"
     ]
    },
    {
     "name": "stdout",
     "output_type": "stream",
     "text": [
      "MoviePy - Done.\n",
      "MoviePy - Writing audio in audio_file/cnbc_1719/cnbc_1719_part0.wav\n"
     ]
    },
    {
     "name": "stderr",
     "output_type": "stream",
     "text": [
      "                                                                                                         \r"
     ]
    },
    {
     "name": "stdout",
     "output_type": "stream",
     "text": [
      "MoviePy - Done.\n",
      "MoviePy - Writing audio in audio_file/cnbc_1719/cnbc_1719_part1.wav\n"
     ]
    },
    {
     "name": "stderr",
     "output_type": "stream",
     "text": [
      "                                                                                                         \r"
     ]
    },
    {
     "name": "stdout",
     "output_type": "stream",
     "text": [
      "MoviePy - Done.\n",
      "MoviePy - Writing audio in audio_file/cnbc_1709/cnbc_1709_part0.wav\n"
     ]
    },
    {
     "name": "stderr",
     "output_type": "stream",
     "text": [
      "                                                                                                         \r"
     ]
    },
    {
     "name": "stdout",
     "output_type": "stream",
     "text": [
      "MoviePy - Done.\n",
      "MoviePy - Writing audio in audio_file/cnbc_1709/cnbc_1709_part1.wav\n"
     ]
    },
    {
     "name": "stderr",
     "output_type": "stream",
     "text": [
      "                                                                                                         \r"
     ]
    },
    {
     "name": "stdout",
     "output_type": "stream",
     "text": [
      "MoviePy - Done.\n",
      "MoviePy - Writing audio in audio_file/cnbc_1709/cnbc_1709_part2.wav\n"
     ]
    },
    {
     "name": "stderr",
     "output_type": "stream",
     "text": [
      "                                                                                                         \r"
     ]
    },
    {
     "name": "stdout",
     "output_type": "stream",
     "text": [
      "MoviePy - Done.\n",
      "MoviePy - Writing audio in audio_file/cnbc_1709/cnbc_1709_part3.wav\n"
     ]
    },
    {
     "name": "stderr",
     "output_type": "stream",
     "text": [
      "                                                                                                         \r"
     ]
    },
    {
     "name": "stdout",
     "output_type": "stream",
     "text": [
      "MoviePy - Done.\n",
      "MoviePy - Writing audio in audio_file/cnbc_1707/cnbc_1707_part0.wav\n"
     ]
    },
    {
     "name": "stderr",
     "output_type": "stream",
     "text": [
      "                                                                                                         \r"
     ]
    },
    {
     "name": "stdout",
     "output_type": "stream",
     "text": [
      "MoviePy - Done.\n",
      "MoviePy - Writing audio in audio_file/cnbc_1707/cnbc_1707_part1.wav\n"
     ]
    },
    {
     "name": "stderr",
     "output_type": "stream",
     "text": [
      "                                                                                                         \r"
     ]
    },
    {
     "name": "stdout",
     "output_type": "stream",
     "text": [
      "MoviePy - Done.\n",
      "MoviePy - Writing audio in audio_file/cnbc_1707/cnbc_1707_part2.wav\n"
     ]
    },
    {
     "name": "stderr",
     "output_type": "stream",
     "text": [
      "                                                                                                         \r"
     ]
    },
    {
     "name": "stdout",
     "output_type": "stream",
     "text": [
      "MoviePy - Done.\n",
      "MoviePy - Writing audio in audio_file/cnbc_1707/cnbc_1707_part3.wav\n"
     ]
    },
    {
     "name": "stderr",
     "output_type": "stream",
     "text": [
      "                                                                                                         \r"
     ]
    },
    {
     "name": "stdout",
     "output_type": "stream",
     "text": [
      "MoviePy - Done.\n",
      "MoviePy - Writing audio in audio_file/cnbc_1685/cnbc_1685_part0.wav\n"
     ]
    },
    {
     "name": "stderr",
     "output_type": "stream",
     "text": [
      "                                                                                                         \r"
     ]
    },
    {
     "name": "stdout",
     "output_type": "stream",
     "text": [
      "MoviePy - Done.\n",
      "MoviePy - Writing audio in audio_file/cnbc_1685/cnbc_1685_part1.wav\n"
     ]
    },
    {
     "name": "stderr",
     "output_type": "stream",
     "text": [
      "                                                                                                         \r"
     ]
    },
    {
     "name": "stdout",
     "output_type": "stream",
     "text": [
      "MoviePy - Done.\n",
      "MoviePy - Writing audio in audio_file/cnbc_1644/cnbc_1644_part0.wav\n"
     ]
    },
    {
     "name": "stderr",
     "output_type": "stream",
     "text": [
      "                                                                                                         \r"
     ]
    },
    {
     "name": "stdout",
     "output_type": "stream",
     "text": [
      "MoviePy - Done.\n",
      "MoviePy - Writing audio in audio_file/cnbc_1644/cnbc_1644_part1.wav\n"
     ]
    },
    {
     "name": "stderr",
     "output_type": "stream",
     "text": [
      "                                                                                                         \r"
     ]
    },
    {
     "name": "stdout",
     "output_type": "stream",
     "text": [
      "MoviePy - Done.\n",
      "MoviePy - Writing audio in audio_file/cnbc_1644/cnbc_1644_part2.wav\n"
     ]
    },
    {
     "name": "stderr",
     "output_type": "stream",
     "text": [
      "                                                                                                         \r"
     ]
    },
    {
     "name": "stdout",
     "output_type": "stream",
     "text": [
      "MoviePy - Done.\n",
      "MoviePy - Writing audio in audio_file/cnbc_1639/cnbc_1639_part0.wav\n"
     ]
    },
    {
     "name": "stderr",
     "output_type": "stream",
     "text": [
      "                                                                                                         \r"
     ]
    },
    {
     "name": "stdout",
     "output_type": "stream",
     "text": [
      "MoviePy - Done.\n",
      "MoviePy - Writing audio in audio_file/cnbc_1639/cnbc_1639_part1.wav\n"
     ]
    },
    {
     "name": "stderr",
     "output_type": "stream",
     "text": [
      "                                                                                                         \r"
     ]
    },
    {
     "name": "stdout",
     "output_type": "stream",
     "text": [
      "MoviePy - Done.\n",
      "MoviePy - Writing audio in audio_file/cnbc_1639/cnbc_1639_part2.wav\n"
     ]
    },
    {
     "name": "stderr",
     "output_type": "stream",
     "text": [
      "                                                                                                         \r"
     ]
    },
    {
     "name": "stdout",
     "output_type": "stream",
     "text": [
      "MoviePy - Done.\n",
      "MoviePy - Writing audio in audio_file/cnbc_1639/cnbc_1639_part3.wav\n"
     ]
    },
    {
     "name": "stderr",
     "output_type": "stream",
     "text": [
      "                                                                                                         \r"
     ]
    },
    {
     "name": "stdout",
     "output_type": "stream",
     "text": [
      "MoviePy - Done.\n",
      "MoviePy - Writing audio in audio_file/cnbc_1565/cnbc_1565_part0.wav\n"
     ]
    },
    {
     "name": "stderr",
     "output_type": "stream",
     "text": [
      "                                                                                                         \r"
     ]
    },
    {
     "name": "stdout",
     "output_type": "stream",
     "text": [
      "MoviePy - Done.\n",
      "MoviePy - Writing audio in audio_file/cnbc_1565/cnbc_1565_part1.wav\n"
     ]
    },
    {
     "name": "stderr",
     "output_type": "stream",
     "text": [
      "                                                                                                         \r"
     ]
    },
    {
     "name": "stdout",
     "output_type": "stream",
     "text": [
      "MoviePy - Done.\n",
      "MoviePy - Writing audio in audio_file/cnbc_1565/cnbc_1565_part2.wav\n"
     ]
    },
    {
     "name": "stderr",
     "output_type": "stream",
     "text": [
      "                                                                                                         \r"
     ]
    },
    {
     "name": "stdout",
     "output_type": "stream",
     "text": [
      "MoviePy - Done.\n",
      "MoviePy - Writing audio in audio_file/cnbc_1565/cnbc_1565_part3.wav\n"
     ]
    },
    {
     "name": "stderr",
     "output_type": "stream",
     "text": [
      "                                                                                                         \r"
     ]
    },
    {
     "name": "stdout",
     "output_type": "stream",
     "text": [
      "MoviePy - Done.\n",
      "MoviePy - Writing audio in audio_file/cnbc_1562/cnbc_1562_part0.wav\n"
     ]
    },
    {
     "name": "stderr",
     "output_type": "stream",
     "text": [
      "                                                                                                         \r"
     ]
    },
    {
     "name": "stdout",
     "output_type": "stream",
     "text": [
      "MoviePy - Done.\n",
      "MoviePy - Writing audio in audio_file/cnbc_1562/cnbc_1562_part1.wav\n"
     ]
    },
    {
     "name": "stderr",
     "output_type": "stream",
     "text": [
      "                                                                                                         \r"
     ]
    },
    {
     "name": "stdout",
     "output_type": "stream",
     "text": [
      "MoviePy - Done.\n",
      "MoviePy - Writing audio in audio_file/cnbc_1562/cnbc_1562_part2.wav\n"
     ]
    },
    {
     "name": "stderr",
     "output_type": "stream",
     "text": [
      "                                                                                                         \r"
     ]
    },
    {
     "name": "stdout",
     "output_type": "stream",
     "text": [
      "MoviePy - Done.\n",
      "MoviePy - Writing audio in audio_file/cnbc_1562/cnbc_1562_part3.wav\n"
     ]
    },
    {
     "name": "stderr",
     "output_type": "stream",
     "text": [
      "                                                                                                         \r"
     ]
    },
    {
     "name": "stdout",
     "output_type": "stream",
     "text": [
      "MoviePy - Done.\n",
      "MoviePy - Writing audio in audio_file/cnbc_1562/cnbc_1562_part4.wav\n"
     ]
    },
    {
     "name": "stderr",
     "output_type": "stream",
     "text": [
      "                                                                                                         \r"
     ]
    },
    {
     "name": "stdout",
     "output_type": "stream",
     "text": [
      "MoviePy - Done.\n",
      "MoviePy - Writing audio in audio_file/cnbc_1553/cnbc_1553_part0.wav\n"
     ]
    },
    {
     "name": "stderr",
     "output_type": "stream",
     "text": [
      "                                                                                                         \r"
     ]
    },
    {
     "name": "stdout",
     "output_type": "stream",
     "text": [
      "MoviePy - Done.\n",
      "MoviePy - Writing audio in audio_file/cnbc_1553/cnbc_1553_part1.wav\n"
     ]
    },
    {
     "name": "stderr",
     "output_type": "stream",
     "text": [
      "                                                                                                         \r"
     ]
    },
    {
     "name": "stdout",
     "output_type": "stream",
     "text": [
      "MoviePy - Done.\n",
      "MoviePy - Writing audio in audio_file/cnbc_1553/cnbc_1553_part2.wav\n"
     ]
    },
    {
     "name": "stderr",
     "output_type": "stream",
     "text": [
      "                                                                                                         \r"
     ]
    },
    {
     "name": "stdout",
     "output_type": "stream",
     "text": [
      "MoviePy - Done.\n",
      "MoviePy - Writing audio in audio_file/cnbc_1553/cnbc_1553_part3.wav\n"
     ]
    },
    {
     "name": "stderr",
     "output_type": "stream",
     "text": [
      "                                                                                                         \r"
     ]
    },
    {
     "name": "stdout",
     "output_type": "stream",
     "text": [
      "MoviePy - Done.\n",
      "MoviePy - Writing audio in audio_file/cnbc_1553/cnbc_1553_part4.wav\n"
     ]
    },
    {
     "name": "stderr",
     "output_type": "stream",
     "text": [
      "                                                                                                         \r"
     ]
    },
    {
     "name": "stdout",
     "output_type": "stream",
     "text": [
      "MoviePy - Done.\n",
      "MoviePy - Writing audio in audio_file/cnbc_1553/cnbc_1553_part5.wav\n"
     ]
    },
    {
     "name": "stderr",
     "output_type": "stream",
     "text": [
      "                                                                                                         \r"
     ]
    },
    {
     "name": "stdout",
     "output_type": "stream",
     "text": [
      "MoviePy - Done.\n",
      "MoviePy - Writing audio in audio_file/cnbc_1532/cnbc_1532_part0.wav\n"
     ]
    },
    {
     "name": "stderr",
     "output_type": "stream",
     "text": [
      "                                                                                                         \r"
     ]
    },
    {
     "name": "stdout",
     "output_type": "stream",
     "text": [
      "MoviePy - Done.\n",
      "MoviePy - Writing audio in audio_file/cnbc_1532/cnbc_1532_part1.wav\n"
     ]
    },
    {
     "name": "stderr",
     "output_type": "stream",
     "text": [
      "                                                                                                         \r"
     ]
    },
    {
     "name": "stdout",
     "output_type": "stream",
     "text": [
      "MoviePy - Done.\n",
      "MoviePy - Writing audio in audio_file/cnbc_1532/cnbc_1532_part2.wav\n"
     ]
    },
    {
     "name": "stderr",
     "output_type": "stream",
     "text": [
      "                                                                                                         \r"
     ]
    },
    {
     "name": "stdout",
     "output_type": "stream",
     "text": [
      "MoviePy - Done.\n",
      "MoviePy - Writing audio in audio_file/cnbc_1532/cnbc_1532_part3.wav\n"
     ]
    },
    {
     "name": "stderr",
     "output_type": "stream",
     "text": [
      "                                                                                                         \r"
     ]
    },
    {
     "name": "stdout",
     "output_type": "stream",
     "text": [
      "MoviePy - Done.\n",
      "MoviePy - Writing audio in audio_file/cnbc_1532/cnbc_1532_part4.wav\n"
     ]
    },
    {
     "name": "stderr",
     "output_type": "stream",
     "text": [
      "                                                                                                         \r"
     ]
    },
    {
     "name": "stdout",
     "output_type": "stream",
     "text": [
      "MoviePy - Done.\n",
      "MoviePy - Writing audio in audio_file/cnbc_1532/cnbc_1532_part5.wav\n"
     ]
    },
    {
     "name": "stderr",
     "output_type": "stream",
     "text": [
      "                                                                                                         \r"
     ]
    },
    {
     "name": "stdout",
     "output_type": "stream",
     "text": [
      "MoviePy - Done.\n",
      "MoviePy - Writing audio in audio_file/cnbc_1528/cnbc_1528_part0.wav\n"
     ]
    },
    {
     "name": "stderr",
     "output_type": "stream",
     "text": [
      "                                                                                                         \r"
     ]
    },
    {
     "name": "stdout",
     "output_type": "stream",
     "text": [
      "MoviePy - Done.\n",
      "MoviePy - Writing audio in audio_file/cnbc_1528/cnbc_1528_part1.wav\n"
     ]
    },
    {
     "name": "stderr",
     "output_type": "stream",
     "text": [
      "                                                                                                         \r"
     ]
    },
    {
     "name": "stdout",
     "output_type": "stream",
     "text": [
      "MoviePy - Done.\n",
      "MoviePy - Writing audio in audio_file/cnbc_1528/cnbc_1528_part2.wav\n"
     ]
    },
    {
     "name": "stderr",
     "output_type": "stream",
     "text": [
      "                                                                                                         \r"
     ]
    },
    {
     "name": "stdout",
     "output_type": "stream",
     "text": [
      "MoviePy - Done.\n",
      "MoviePy - Writing audio in audio_file/cnbc_1528/cnbc_1528_part3.wav\n"
     ]
    },
    {
     "name": "stderr",
     "output_type": "stream",
     "text": [
      "                                                                                                         \r"
     ]
    },
    {
     "name": "stdout",
     "output_type": "stream",
     "text": [
      "MoviePy - Done.\n",
      "MoviePy - Writing audio in audio_file/cnbc_1528/cnbc_1528_part4.wav\n"
     ]
    },
    {
     "name": "stderr",
     "output_type": "stream",
     "text": [
      "                                                                                                         \r"
     ]
    },
    {
     "name": "stdout",
     "output_type": "stream",
     "text": [
      "MoviePy - Done.\n",
      "MoviePy - Writing audio in audio_file/cnbc_1528/cnbc_1528_part5.wav\n"
     ]
    },
    {
     "name": "stderr",
     "output_type": "stream",
     "text": [
      "                                                                                                         \r"
     ]
    },
    {
     "name": "stdout",
     "output_type": "stream",
     "text": [
      "MoviePy - Done.\n",
      "MoviePy - Writing audio in audio_file/cnbc_1528/cnbc_1528_part6.wav\n"
     ]
    },
    {
     "name": "stderr",
     "output_type": "stream",
     "text": [
      "                                                                                                         \r"
     ]
    },
    {
     "name": "stdout",
     "output_type": "stream",
     "text": [
      "MoviePy - Done.\n",
      "MoviePy - Writing audio in audio_file/cnbc_1528/cnbc_1528_part7.wav\n"
     ]
    },
    {
     "name": "stderr",
     "output_type": "stream",
     "text": [
      "                                                                                                         \r"
     ]
    },
    {
     "name": "stdout",
     "output_type": "stream",
     "text": [
      "MoviePy - Done.\n",
      "MoviePy - Writing audio in audio_file/cnbc_1528/cnbc_1528_part8.wav\n"
     ]
    },
    {
     "name": "stderr",
     "output_type": "stream",
     "text": [
      "                                                                                                         \r"
     ]
    },
    {
     "name": "stdout",
     "output_type": "stream",
     "text": [
      "MoviePy - Done.\n",
      "MoviePy - Writing audio in audio_file/cnbc_1528/cnbc_1528_part9.wav\n"
     ]
    },
    {
     "name": "stderr",
     "output_type": "stream",
     "text": [
      "                                                                                                         \r"
     ]
    },
    {
     "name": "stdout",
     "output_type": "stream",
     "text": [
      "MoviePy - Done.\n",
      "MoviePy - Writing audio in audio_file/cnbc_1528/cnbc_1528_part10.wav\n"
     ]
    },
    {
     "name": "stderr",
     "output_type": "stream",
     "text": [
      "                                                                                                         \r"
     ]
    },
    {
     "name": "stdout",
     "output_type": "stream",
     "text": [
      "MoviePy - Done.\n",
      "MoviePy - Writing audio in audio_file/cnbc_1531/cnbc_1531_part0.wav\n"
     ]
    },
    {
     "name": "stderr",
     "output_type": "stream",
     "text": [
      "                                                                                                         \r"
     ]
    },
    {
     "name": "stdout",
     "output_type": "stream",
     "text": [
      "MoviePy - Done.\n",
      "MoviePy - Writing audio in audio_file/cnbc_1517/cnbc_1517_part0.wav\n"
     ]
    },
    {
     "name": "stderr",
     "output_type": "stream",
     "text": [
      "                                                                                                         \r"
     ]
    },
    {
     "name": "stdout",
     "output_type": "stream",
     "text": [
      "MoviePy - Done.\n",
      "MoviePy - Writing audio in audio_file/cnbc_1517/cnbc_1517_part1.wav\n"
     ]
    },
    {
     "name": "stderr",
     "output_type": "stream",
     "text": [
      "                                                                                                         \r"
     ]
    },
    {
     "name": "stdout",
     "output_type": "stream",
     "text": [
      "MoviePy - Done.\n",
      "MoviePy - Writing audio in audio_file/cnbc_1517/cnbc_1517_part2.wav\n"
     ]
    },
    {
     "name": "stderr",
     "output_type": "stream",
     "text": [
      "                                                                                                         \r"
     ]
    },
    {
     "name": "stdout",
     "output_type": "stream",
     "text": [
      "MoviePy - Done.\n",
      "MoviePy - Writing audio in audio_file/cnbc_1517/cnbc_1517_part3.wav\n"
     ]
    },
    {
     "name": "stderr",
     "output_type": "stream",
     "text": [
      "                                                                                                         \r"
     ]
    },
    {
     "name": "stdout",
     "output_type": "stream",
     "text": [
      "MoviePy - Done.\n",
      "No speech could be recognized: NoMatchDetails(reason=NoMatchReason.InitialSilenceTimeout)\n"
     ]
    },
  {
   "cell_type": "code",
   "execution_count": 142,
   "id": "f3fc92a4",
   "metadata": {},
   "outputs": [],
   "source": [
    "# file_lis = os.listdir('txt_trans')\n",
    "# for i in file_lis:\n",
    "#     os.rename('txt_trans/'+i, 'txt_trans/'+i[:-9]+'_'+i[-9:]) "
   ]
  },
  {
   "cell_type": "code",
   "execution_count": null,
   "id": "64bd052a",
   "metadata": {},
   "outputs": [],
   "source": []
  },
  {
   "cell_type": "code",
   "execution_count": null,
   "id": "17e622c7",
   "metadata": {},
   "outputs": [],
   "source": []
  },
  {
   "cell_type": "markdown",
   "id": "f3738ebb",
   "metadata": {},
   "source": [
    "## Test"
   ]
  },
  {
   "cell_type": "code",
   "execution_count": 149,
   "id": "37a52203",
   "metadata": {},
   "outputs": [
    {
     "data": {
      "text/plain": [
       "comp_name                                  Citizens Financial Group Inc\n",
       "description           Citizens Financial earnings beat. Bruce Van Sa...\n",
       "source                                                             cnbc\n",
       "title                           Citizens Financial CEO on raising rates\n",
       "fn_name                                                        1517.txt\n",
       "duration                                                           2.25\n",
       "TIME_in_script                                                 13:48:19\n",
       "DATE                                                2016-07-21 00:00:00\n",
       "MULTI_ADD                                                           NaN\n",
       "MULTI_DUP                                                           NaN\n",
       "DIFF_PROG                                                           NaN\n",
       "PROGRAM                                                     POWER LUNCH\n",
       "transcript_needed                                                     0\n",
       "Start_time                                                     13:48:49\n",
       "End_time                                                       13:51:12\n",
       "Time_in_EST_Other                                                   EDT\n",
       "achived url           https://archive.org/details/CNBC_20160721_1700...\n",
       "archived_missing                                                      0\n",
       "Short?                                                              NaN\n",
       "download                                                            NaN\n",
       "duration_in_script                                                  135\n",
       "url                   /video/2016/07/21/citizens-financial-ceo-on-ra...\n",
       "Name: 37, dtype: object"
      ]
     },
     "execution_count": 149,
     "metadata": {},
     "output_type": "execute_result"
    }
   ],
   "source": [
    "df.iloc[37]"
   ]
  },
  {
   "cell_type": "code",
   "execution_count": null,
   "id": "b84439eb",
   "metadata": {},
   "outputs": [],
   "source": []
  }
 ],
 "metadata": {
  "kernelspec": {
   "display_name": "Python 3 (ipykernel)",
   "language": "python",
   "name": "python3"
  },
  "language_info": {
   "codemirror_mode": {
    "name": "ipython",
    "version": 3
   },
   "file_extension": ".py",
   "mimetype": "text/x-python",
   "name": "python",
   "nbconvert_exporter": "python",
   "pygments_lexer": "ipython3",
   "version": "3.9.7"
  }
 },
 "nbformat": 4,
 "nbformat_minor": 5
}
