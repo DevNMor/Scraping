{
 "cells": [
  {
   "cell_type": "code",
   "execution_count": 9,
   "id": "8e0b3fc6",
   "metadata": {},
   "outputs": [],
   "source": [
    "import os\n",
    "from IPython.core.interactiveshell import InteractiveShell\n",
    "InteractiveShell.ast_node_interactivity = \"all\"\n",
    "\n",
    "import wave"
   ]
  },
  {
   "cell_type": "code",
   "execution_count": 25,
   "id": "ca09e382",
   "metadata": {},
   "outputs": [],
   "source": [
    "# path = os.listdir('audio_file')\n",
    "# path1 = os.listdir('audio_file/bb_2420')"
   ]
  },
  {
   "cell_type": "code",
   "execution_count": 32,
   "id": "915c081b",
   "metadata": {},
   "outputs": [],
   "source": [
    "path = os.listdir('audio_file_mk')\n",
    "\n",
    "def get_file(x):\n",
    "    \n",
    "    path1 = os.listdir('audio_file_mk/'+path[x])\n",
    "    info = []\n",
    "    \n",
    "    for i in path1:\n",
    "        with wave.open('audio_file_mk/'+path[x]+'/'+i, 'rb') as w:\n",
    "            info.append([w.getparams(), w.readframes(w.getnframes())])\n",
    "            \n",
    "    if not os.path.exists('INT_audio_mk'):\n",
    "        os.makedirs('INT_audio_mk')\n",
    "        \n",
    "    with wave.open('INT_audio_mk/'+path[x]+'.wav', 'wb') as out:\n",
    "        out.setparams(info[0][0])\n",
    "        for j in range(len(path1)):\n",
    "            out.writeframes(info[j][1])  "
   ]
  },
  {
   "cell_type": "code",
   "execution_count": 33,
   "id": "182e771a",
   "metadata": {},
   "outputs": [],
   "source": [
    "for i in range(len(path)):\n",
    "    get_file(i)"
   ]
  },
  {
   "cell_type": "code",
   "execution_count": 34,
   "id": "03e38a28",
   "metadata": {},
   "outputs": [
    {
     "data": {
      "text/plain": [
       "230"
      ]
     },
     "execution_count": 34,
     "metadata": {},
     "output_type": "execute_result"
    }
   ],
   "source": [
    "len(path)"
   ]
  },
  {
   "cell_type": "code",
   "execution_count": null,
   "id": "9bc3f014",
   "metadata": {},
   "outputs": [],
   "source": []
  }
 ],
 "metadata": {
  "kernelspec": {
   "display_name": "Python 3 (ipykernel)",
   "language": "python",
   "name": "python3"
  },
  "language_info": {
   "codemirror_mode": {
    "name": "ipython",
    "version": 3
   },
   "file_extension": ".py",
   "mimetype": "text/x-python",
   "name": "python",
   "nbconvert_exporter": "python",
   "pygments_lexer": "ipython3",
   "version": "3.9.7"
  }
 },
 "nbformat": 4,
 "nbformat_minor": 5
}
